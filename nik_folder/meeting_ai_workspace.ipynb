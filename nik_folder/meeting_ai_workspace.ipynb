{
 "cells": [
  {
   "cell_type": "code",
   "execution_count": 1,
   "id": "95fae4c8",
   "metadata": {},
   "outputs": [
    {
     "name": "stderr",
     "output_type": "stream",
     "text": [
      "c:\\Users\\Nik\\anaconda3\\envs\\dev\\Lib\\site-packages\\tqdm\\auto.py:21: TqdmWarning: IProgress not found. Please update jupyter and ipywidgets. See https://ipywidgets.readthedocs.io/en/stable/user_install.html\n",
      "  from .autonotebook import tqdm as notebook_tqdm\n"
     ]
    }
   ],
   "source": [
    "import pandas as pd\n",
    "from datasets import load_dataset\n",
    "\n",
    "# initial tests using sample transcripts of town hall meetings from MeetingBank\n",
    "ds = load_dataset(\"huuuyeah/meetingbank\")\n"
   ]
  },
  {
   "cell_type": "code",
   "execution_count": null,
   "id": "782616f8",
   "metadata": {},
   "outputs": [
    {
     "data": {
      "text/plain": [
       "DatasetDict({\n",
       "    train: Dataset({\n",
       "        features: ['summary', 'uid', 'id', 'transcript'],\n",
       "        num_rows: 5169\n",
       "    })\n",
       "    validation: Dataset({\n",
       "        features: ['summary', 'uid', 'id', 'transcript'],\n",
       "        num_rows: 861\n",
       "    })\n",
       "    test: Dataset({\n",
       "        features: ['summary', 'uid', 'id', 'transcript'],\n",
       "        num_rows: 862\n",
       "    })\n",
       "})"
      ]
     },
     "execution_count": 11,
     "metadata": {},
     "output_type": "execute_result"
    }
   ],
   "source": [
    "# split the dict\n",
    "train_data = ds['train']\n",
    "test_data = ds['test']\n",
    "val_data = ds['validation']\n",
    "\n",
    "ds"
   ]
  },
  {
   "cell_type": "code",
   "execution_count": null,
   "id": "5317cfcd",
   "metadata": {},
   "outputs": [],
   "source": [
    "# converting to dataframes\n",
    "train_df = pd.DataFrame(train_data)\n",
    "test_df = pd.DataFrame(test_data)\n",
    "val_df = pd.DataFrame(val_data)"
   ]
  },
  {
   "cell_type": "code",
   "execution_count": 13,
   "id": "4e2d7a68",
   "metadata": {},
   "outputs": [
    {
     "data": {
      "text/html": [
       "<div>\n",
       "<style scoped>\n",
       "    .dataframe tbody tr th:only-of-type {\n",
       "        vertical-align: middle;\n",
       "    }\n",
       "\n",
       "    .dataframe tbody tr th {\n",
       "        vertical-align: top;\n",
       "    }\n",
       "\n",
       "    .dataframe thead th {\n",
       "        text-align: right;\n",
       "    }\n",
       "</style>\n",
       "<table border=\"1\" class=\"dataframe\">\n",
       "  <thead>\n",
       "    <tr style=\"text-align: right;\">\n",
       "      <th></th>\n",
       "      <th>summary</th>\n",
       "      <th>uid</th>\n",
       "      <th>id</th>\n",
       "      <th>transcript</th>\n",
       "    </tr>\n",
       "  </thead>\n",
       "  <tbody>\n",
       "    <tr>\n",
       "      <th>0</th>\n",
       "      <td>AS AMENDED a bill for an ordinance amending th...</td>\n",
       "      <td>DenverCityCouncil_05012017_17-0161</td>\n",
       "      <td>0</td>\n",
       "      <td>Please refrain from profane or obscene speech....</td>\n",
       "    </tr>\n",
       "    <tr>\n",
       "      <th>1</th>\n",
       "      <td>AS AMENDED a bill for an ordinance amending th...</td>\n",
       "      <td>DenverCityCouncil_04102017_17-0161</td>\n",
       "      <td>1</td>\n",
       "      <td>An assessment has called out council bill 161 ...</td>\n",
       "    </tr>\n",
       "    <tr>\n",
       "      <th>2</th>\n",
       "      <td>AS AMENDED a bill for an ordinance amending th...</td>\n",
       "      <td>DenverCityCouncil_02272017_17-0161</td>\n",
       "      <td>2</td>\n",
       "      <td>I Please close the voting. Announce the result...</td>\n",
       "    </tr>\n",
       "    <tr>\n",
       "      <th>3</th>\n",
       "      <td>Recommendation to respectfully request City Co...</td>\n",
       "      <td>LongBeachCC_03072017_17-0161</td>\n",
       "      <td>3</td>\n",
       "      <td>Motion passes. Hey, thank you very much. Now w...</td>\n",
       "    </tr>\n",
       "    <tr>\n",
       "      <th>4</th>\n",
       "      <td>AS AMENDED a bill for an ordinance amending th...</td>\n",
       "      <td>DenverCityCouncil_03202017_17-0161</td>\n",
       "      <td>4</td>\n",
       "      <td>All right. Pursuant to Council Bill 3.7 consid...</td>\n",
       "    </tr>\n",
       "  </tbody>\n",
       "</table>\n",
       "</div>"
      ],
      "text/plain": [
       "                                             summary  \\\n",
       "0  AS AMENDED a bill for an ordinance amending th...   \n",
       "1  AS AMENDED a bill for an ordinance amending th...   \n",
       "2  AS AMENDED a bill for an ordinance amending th...   \n",
       "3  Recommendation to respectfully request City Co...   \n",
       "4  AS AMENDED a bill for an ordinance amending th...   \n",
       "\n",
       "                                  uid  id  \\\n",
       "0  DenverCityCouncil_05012017_17-0161   0   \n",
       "1  DenverCityCouncil_04102017_17-0161   1   \n",
       "2  DenverCityCouncil_02272017_17-0161   2   \n",
       "3        LongBeachCC_03072017_17-0161   3   \n",
       "4  DenverCityCouncil_03202017_17-0161   4   \n",
       "\n",
       "                                          transcript  \n",
       "0  Please refrain from profane or obscene speech....  \n",
       "1  An assessment has called out council bill 161 ...  \n",
       "2  I Please close the voting. Announce the result...  \n",
       "3  Motion passes. Hey, thank you very much. Now w...  \n",
       "4  All right. Pursuant to Council Bill 3.7 consid...  "
      ]
     },
     "execution_count": 13,
     "metadata": {},
     "output_type": "execute_result"
    }
   ],
   "source": [
    "train_df.head()"
   ]
  },
  {
   "cell_type": "code",
   "execution_count": 14,
   "id": "c3ac0e62",
   "metadata": {},
   "outputs": [],
   "source": [
    "from langchain_openai import ChatOpenAI\n",
    "from dotenv import load_dotenv\n",
    "import os"
   ]
  },
  {
   "cell_type": "code",
   "execution_count": 15,
   "id": "f834fa3c",
   "metadata": {},
   "outputs": [],
   "source": [
    "# Load environment variables.\n",
    "load_dotenv()\n",
    "\n",
    "# Set the model name for our LLMs.\n",
    "OPENAI_MODEL = \"gpt-3.5-turbo\"\n",
    "# Store the API key in a variable.\n",
    "OPENAI_API_KEY = os.getenv(\"OPENAI_API_KEY\")"
   ]
  },
  {
   "cell_type": "code",
   "execution_count": 16,
   "id": "61c7a0d3",
   "metadata": {},
   "outputs": [],
   "source": [
    "from langchain.agents import initialize_agent, load_tools\n",
    "from langchain.chains.llm import LLMChain\n",
    "from langchain_core.prompts import ChatPromptTemplate\n",
    "from langchain.docstore.document import Document\n",
    "from langchain.chains.summarize import load_summarize_chain"
   ]
  },
  {
   "cell_type": "code",
   "execution_count": null,
   "id": "eef2d66f",
   "metadata": {},
   "outputs": [
    {
     "data": {
      "text/html": [
       "<div>\n",
       "<style scoped>\n",
       "    .dataframe tbody tr th:only-of-type {\n",
       "        vertical-align: middle;\n",
       "    }\n",
       "\n",
       "    .dataframe tbody tr th {\n",
       "        vertical-align: top;\n",
       "    }\n",
       "\n",
       "    .dataframe thead th {\n",
       "        text-align: right;\n",
       "    }\n",
       "</style>\n",
       "<table border=\"1\" class=\"dataframe\">\n",
       "  <thead>\n",
       "    <tr style=\"text-align: right;\">\n",
       "      <th></th>\n",
       "      <th>index</th>\n",
       "      <th>summary</th>\n",
       "      <th>uid</th>\n",
       "      <th>id</th>\n",
       "      <th>transcript</th>\n",
       "    </tr>\n",
       "  </thead>\n",
       "  <tbody>\n",
       "    <tr>\n",
       "      <th>0</th>\n",
       "      <td>1</td>\n",
       "      <td>AS AMENDED a bill for an ordinance amending th...</td>\n",
       "      <td>DenverCityCouncil_04102017_17-0161</td>\n",
       "      <td>1</td>\n",
       "      <td>An assessment has called out council bill 161 ...</td>\n",
       "    </tr>\n",
       "    <tr>\n",
       "      <th>1</th>\n",
       "      <td>2</td>\n",
       "      <td>AS AMENDED a bill for an ordinance amending th...</td>\n",
       "      <td>DenverCityCouncil_02272017_17-0161</td>\n",
       "      <td>2</td>\n",
       "      <td>I Please close the voting. Announce the result...</td>\n",
       "    </tr>\n",
       "    <tr>\n",
       "      <th>2</th>\n",
       "      <td>3</td>\n",
       "      <td>Recommendation to respectfully request City Co...</td>\n",
       "      <td>LongBeachCC_03072017_17-0161</td>\n",
       "      <td>3</td>\n",
       "      <td>Motion passes. Hey, thank you very much. Now w...</td>\n",
       "    </tr>\n",
       "    <tr>\n",
       "      <th>3</th>\n",
       "      <td>4</td>\n",
       "      <td>AS AMENDED a bill for an ordinance amending th...</td>\n",
       "      <td>DenverCityCouncil_03202017_17-0161</td>\n",
       "      <td>4</td>\n",
       "      <td>All right. Pursuant to Council Bill 3.7 consid...</td>\n",
       "    </tr>\n",
       "    <tr>\n",
       "      <th>4</th>\n",
       "      <td>5</td>\n",
       "      <td>AS AMENDED a bill for an ordinance amending th...</td>\n",
       "      <td>DenverCityCouncil_02212017_17-0161</td>\n",
       "      <td>5</td>\n",
       "      <td>11 Eyes, Resolution 109 has been adopted as am...</td>\n",
       "    </tr>\n",
       "    <tr>\n",
       "      <th>...</th>\n",
       "      <td>...</td>\n",
       "      <td>...</td>\n",
       "      <td>...</td>\n",
       "      <td>...</td>\n",
       "      <td>...</td>\n",
       "    </tr>\n",
       "    <tr>\n",
       "      <th>4882</th>\n",
       "      <td>5164</td>\n",
       "      <td>AN ORDINANCE imposing a tax on engaging in the...</td>\n",
       "      <td>SeattleCityCouncil_06052017_CB 118965</td>\n",
       "      <td>5164</td>\n",
       "      <td>Thank you. The bill passed and chair of the Se...</td>\n",
       "    </tr>\n",
       "    <tr>\n",
       "      <th>4883</th>\n",
       "      <td>5165</td>\n",
       "      <td>Proclamation Declaring April 8 through April 1...</td>\n",
       "      <td>AlamedaCC_04022019_2019-6703</td>\n",
       "      <td>5165</td>\n",
       "      <td>Okay. Next is a proclamation declaring April e...</td>\n",
       "    </tr>\n",
       "    <tr>\n",
       "      <th>4884</th>\n",
       "      <td>5166</td>\n",
       "      <td>Approves an agreement with Kaiser Foundation H...</td>\n",
       "      <td>DenverCityCouncil_01052015_14-1062</td>\n",
       "      <td>5166</td>\n",
       "      <td>I just pulled this one out. This one actually ...</td>\n",
       "    </tr>\n",
       "    <tr>\n",
       "      <th>4885</th>\n",
       "      <td>5167</td>\n",
       "      <td>A bill for an Ordinance authorizing and approv...</td>\n",
       "      <td>DenverCityCouncil_06082015_15-0302</td>\n",
       "      <td>5167</td>\n",
       "      <td>The estimated taxable value following redevelo...</td>\n",
       "    </tr>\n",
       "    <tr>\n",
       "      <th>4886</th>\n",
       "      <td>5168</td>\n",
       "      <td>A bill for an ordinance designating certain pr...</td>\n",
       "      <td>DenverCityCouncil_11172014_14-0930</td>\n",
       "      <td>5168</td>\n",
       "      <td>Brooks Brown, I. Mr. President. Hi, Mr. Secret...</td>\n",
       "    </tr>\n",
       "  </tbody>\n",
       "</table>\n",
       "<p>4887 rows × 5 columns</p>\n",
       "</div>"
      ],
      "text/plain": [
       "      index                                            summary  \\\n",
       "0         1  AS AMENDED a bill for an ordinance amending th...   \n",
       "1         2  AS AMENDED a bill for an ordinance amending th...   \n",
       "2         3  Recommendation to respectfully request City Co...   \n",
       "3         4  AS AMENDED a bill for an ordinance amending th...   \n",
       "4         5  AS AMENDED a bill for an ordinance amending th...   \n",
       "...     ...                                                ...   \n",
       "4882   5164  AN ORDINANCE imposing a tax on engaging in the...   \n",
       "4883   5165  Proclamation Declaring April 8 through April 1...   \n",
       "4884   5166  Approves an agreement with Kaiser Foundation H...   \n",
       "4885   5167  A bill for an Ordinance authorizing and approv...   \n",
       "4886   5168  A bill for an ordinance designating certain pr...   \n",
       "\n",
       "                                        uid    id  \\\n",
       "0        DenverCityCouncil_04102017_17-0161     1   \n",
       "1        DenverCityCouncil_02272017_17-0161     2   \n",
       "2              LongBeachCC_03072017_17-0161     3   \n",
       "3        DenverCityCouncil_03202017_17-0161     4   \n",
       "4        DenverCityCouncil_02212017_17-0161     5   \n",
       "...                                     ...   ...   \n",
       "4882  SeattleCityCouncil_06052017_CB 118965  5164   \n",
       "4883           AlamedaCC_04022019_2019-6703  5165   \n",
       "4884     DenverCityCouncil_01052015_14-1062  5166   \n",
       "4885     DenverCityCouncil_06082015_15-0302  5167   \n",
       "4886     DenverCityCouncil_11172014_14-0930  5168   \n",
       "\n",
       "                                             transcript  \n",
       "0     An assessment has called out council bill 161 ...  \n",
       "1     I Please close the voting. Announce the result...  \n",
       "2     Motion passes. Hey, thank you very much. Now w...  \n",
       "3     All right. Pursuant to Council Bill 3.7 consid...  \n",
       "4     11 Eyes, Resolution 109 has been adopted as am...  \n",
       "...                                                 ...  \n",
       "4882  Thank you. The bill passed and chair of the Se...  \n",
       "4883  Okay. Next is a proclamation declaring April e...  \n",
       "4884  I just pulled this one out. This one actually ...  \n",
       "4885  The estimated taxable value following redevelo...  \n",
       "4886  Brooks Brown, I. Mr. President. Hi, Mr. Secret...  \n",
       "\n",
       "[4887 rows x 5 columns]"
      ]
     },
     "execution_count": 17,
     "metadata": {},
     "output_type": "execute_result"
    }
   ],
   "source": [
    "# dropping entries with too many tokens for the model\n",
    "# this was before batching was considered\n",
    "train_df_sorted = train_df[train_df['transcript'].str.len() <= 16385 * 4].reset_index()\n",
    "train_df_sorted"
   ]
  },
  {
   "cell_type": "code",
   "execution_count": null,
   "id": "888f0061",
   "metadata": {},
   "outputs": [
    {
     "data": {
      "text/plain": [
       "\"Motion passes. Hey, thank you very much. Now we're moving on to item 22. Communication from Vice Mayor Richardson recommendation to request City Council approval of the 2017 federal legislative agenda as recommended by the Federal Legislation Committee. There's a motion and a second Vice Mayor. So just a few updates here we have. So we met in November on November 15th to review staff's recommended recommended changes for the 2017 federal legislative agenda. The committee made some fairly substantive changes to the agenda last year when we were reorganized and consolidated some of the statements that may have been repetitive in years past. And because we made so many, so many changes in the last update, and as the new presidential administration gets up and running, the first large committee will be focused on protecting existing revenues that the city current receive currently receives from the federal government, such as the Housing Choice Voucher Program, commonly known as Section eight, CDBG, other HUD programs. We're also going to take a look at workforce programs and supporting those as well. And our existing legislative agenda already empowers us to do that. The committee heard that, you know, the committee may have heard that there's one particular area of the of the legislative agenda, legislative agenda that could use some additional language. That's the area of violence prevention and services to stem the homeless crisis in L.A. County. And because of all of our work, our mayor, city council, city staff have done around violence prevention staff recommended that we add language in the public safety section to support federal legislation that would assist with the implementation of violence prevention programs and in the area of homeless prevention. Staff recommended that the City Council support the city, support federal assistance toward establishing substance use treatment facilities in the region. Language to support mental health services is already existing there. Our committee voted to receive a file. All of staff's recommended and recommended changes and for those to the City Council for Adoption tonight. Since our meeting in November, a number of executive orders signed by the new president make it so that we need to update an existing statement in our in our agenda supporting the expansion of dockets. Read one that reads supporting federal legislation that maintains existing allowances for undocumented immigrants to who qualify for the DOCA program to remain in the United States, as well as being as well as any legislation that protects safety and well-being of all Californians by ensuring state and local race resources are not used to support deportations, collect information about individuals or religious beliefs or affiliations that ultimately hurt California's economy. Specific to the DOCA program, we're talking about immigrants who enter the U.S. before the 16th birthday and before June 27 are currently in high school or high school graduate honorably discharged in the military under the age of 31 as of June 15, 2012, and have not been convicted of a felony, significant misdemeanor or other or three other misdemeanors otherwise pose a threat to national security. So these recommended changes come because there's been, you know, since these executive orders, a number of bills that have come out. And we wanted to make sure that our language and our letter agenda is wide and comprehensive enough to support different bills, whether it's, you know, Feinstein's bill or other other people's bills that go forward, it still maintains the intent to support the DOCA language. And so that is sort of a highlight on what we're doing tonight on the failed agenda. Thanks. Thank you, Councilmember Yuri. Councilmember Gonzales. I'll defer Gonzales first. Councilman Gonzales. Q I don't know what's going on, Mayor. I'm sorry. No. It's it's Election Day. I know. That's okay. I just want to say thank you to Diana and to Vice Mayor Richardson. And now we have Councilmember Saranga that will be joining us at our next Fed. Federal legislation relation trip. And so I think vice mayor reiterated many of the new actions that we'll be taking when we go to D.C. and also here on the dais when we're discussing Long Beach initiatives. But the things that kind of pop out in my mind, the items, of course, are immigration issues related to DOCA and the new executive order, specifically with the ban on predominantly Muslim countries environmental protections, which I know we'll have to really look a little bit more into, and then securing our major capital projects like many of the initiatives that we have citywide. I want to make sure that we're securing those and that funding is going through us as we see fit. So thank you very much for your work and I look forward to working with you all again. Thank you. Councilmember Ringo. Thank you, Mayor. It's going to be my first year on this committee and I'm looking forward to it. It's going to be quite a challenging year. Obviously, we've had a change in in our presidency and a different focus. And so I'm looking forward to advocating for the city on behalf of a Long Beach. Thank you. Councilmember Pearce. Yeah, I just want to say, you know, I took the time to read through everything on the agenda and I just it made me really proud to be a part of this council and to look at everything from immigration to gun control, violence prevention, affordable housing. A lot of the things that we aspire to do that sometimes are challenging and tough. And I know that we can't do it all, but I just really thank you for making sure that this is comprehensive and that we, despite what's happening at the federal level, are continuing to advocate and protect those that live in our communities here. So thank you. Thank you. Any public comment on this saying please cast your votes. Councilman, your anger. Motion passes.\""
      ]
     },
     "execution_count": 18,
     "metadata": {},
     "output_type": "execute_result"
    }
   ],
   "source": [
    "# view a sample transcript\n",
    "train_df_sorted['transcript'][2]"
   ]
  },
  {
   "cell_type": "code",
   "execution_count": 2,
   "id": "a6cbd701",
   "metadata": {},
   "outputs": [],
   "source": [
    "# pulling in zains real world transcript\n",
    "transcript = pd.read_json('../Resources/vertopal.com_Discuss Collaborative Testing prior to release.json', orient='index')"
   ]
  },
  {
   "cell_type": "code",
   "execution_count": 20,
   "id": "6529b95e",
   "metadata": {},
   "outputs": [
    {
     "data": {
      "text/plain": [
       "'#audio transcription bot\\nfrom openai import OpenAI\\n\\nclient = OpenAI()\\naudio_file = open(\"Discuss RCM _ CPQ Data Usecases-20250411_081350-Meeting Recording.mp3\", \\'rb\\')\\n\\ntranscribed_audio = client.audio.transcriptions.create(\\n    file=audio_file,\\n    model=\\'whisper-1\\',\\n    response_format=\\'text\\'\\n)\\ntranscribed_audio = \\'\"\\' + transcribed_audio + \\'\"\\'\\nprint(transcribed_audio)'"
      ]
     },
     "execution_count": 20,
     "metadata": {},
     "output_type": "execute_result"
    }
   ],
   "source": [
    "'''#audio transcription bot\n",
    "from openai import OpenAI\n",
    "\n",
    "client = OpenAI()\n",
    "audio_file = open(\"Discuss RCM _ CPQ Data Usecases-20250411_081350-Meeting Recording.mp3\", 'rb')\n",
    "\n",
    "transcribed_audio = client.audio.transcriptions.create(\n",
    "    file=audio_file,\n",
    "    model='whisper-1',\n",
    "    response_format='text'\n",
    ")\n",
    "transcribed_audio = '\"' + transcribed_audio + '\"'\n",
    "print(transcribed_audio)'''"
   ]
  },
  {
   "cell_type": "markdown",
   "id": "33a3c123",
   "metadata": {},
   "source": [
    "## adjust comment code cells above or below depending on test input"
   ]
  },
  {
   "cell_type": "code",
   "execution_count": 3,
   "id": "e41e3b17",
   "metadata": {},
   "outputs": [],
   "source": [
    "# calling it the same variable for simplicity later - comment out if using audio\n",
    "\n",
    "transcribed_audio = str(transcript[0])"
   ]
  },
  {
   "cell_type": "code",
   "execution_count": 22,
   "id": "2f4c54ee",
   "metadata": {},
   "outputs": [
    {
     "data": {
      "text/plain": [
       "56998"
      ]
     },
     "execution_count": 22,
     "metadata": {},
     "output_type": "execute_result"
    }
   ],
   "source": [
    "len(transcribed_audio)"
   ]
  },
  {
   "cell_type": "code",
   "execution_count": 4,
   "id": "1c945fa7",
   "metadata": {},
   "outputs": [],
   "source": [
    "# splitting transcription if max token limit is possibly exceeded\n",
    "max_len = 37000\n",
    "\n",
    "if len(transcribed_audio) >= max_len:\n",
    "\n",
    "    transcribed_audio_trimmed_list = [transcribed_audio[i:i + max_len] for i in range(0, len(transcribed_audio), max_len)]\n"
   ]
  },
  {
   "cell_type": "markdown",
   "id": "eab6c59f",
   "metadata": {},
   "source": [
    "# the following models will take in either the transcribed audio, or a transcribed text document!"
   ]
  },
  {
   "cell_type": "code",
   "execution_count": null,
   "id": "eb3ee435",
   "metadata": {},
   "outputs": [
    {
     "name": "stderr",
     "output_type": "stream",
     "text": [
      "C:\\Users\\Nik\\AppData\\Local\\Temp\\ipykernel_2012\\4008238935.py:27: LangChainDeprecationWarning: The method `Chain.run` was deprecated in langchain 0.1.0 and will be removed in 1.0. Use :meth:`~invoke` instead.\n",
      "  summary = chain.run(input_documents=batch)\n"
     ]
    },
    {
     "name": "stdout",
     "output_type": "stream",
     "text": [
      "The transcript from April 29, 2025, captures a critical meeting led by Zain Master, focusing on enhancing customer confidence in product releases. The primary concern addressed is the need for improved testing methodologies that closely mirror the unique environments of individual customers. This approach is aimed at mitigating the recurring issues that necessitate continuous fixes, which have been a source of dissatisfaction among customers and internal teams alike.\n",
      "\n",
      "Zain proposes a collaborative strategy between the solution center, which has a deep understanding of customer implementations, and the core product team responsible for initial testing phases. This partnership is envisioned to enhance the effectiveness of the testing processes by incorporating insights from the solution center into the core team's efforts.\n",
      "\n",
      "The meeting also delves into the strategy of releasing updates in waves. This method has proven beneficial in early identification of issues by limiting the exposure of new releases to a smaller segment of the customer base initially. However, this staged release approach brings about challenges in communication, as customers awaiting new features need to be managed carefully to maintain their expectations and satisfaction.\n",
      "\n",
      "Terry Stone highlights the complexities involved in managing communications across different release waves. He points out the potential need for adjustments based on the feedback and results from initial waves. Additionally, Terry mentions the necessity for improved infrastructure and hosting solutions to support the segmented release strategy effectively.\n",
      "\n",
      "The discussion also covers the logistical aspects of resource allocation for testing new releases. Petr Klen and Radim Moravec emphasize the importance of securing QA resources well in advance. They suggest implementing a formalized process, possibly through a ticketing system, to streamline the request and management of these essential resources.\n",
      "\n",
      "A consensus is reached on the need for a structured testing approach. This would involve identifying key customers and functionalities for testing based on the complexity of their setups and the nature of changes in each release. Such a strategy requires meticulous coordination between the core product team and the solution center to ensure comprehensive coverage and timely resolution of any arising issues.\n",
      "\n",
      "Furthermore, the meeting addresses the need for better integration of the solution center in the development cycle. It is proposed that the solution center team be included in demo meetings at the end of each sprint to stay abreast of changes, especially those affecting APIs which could impact customer implementations. The idea of recording these demos for asynchronous viewing is also suggested to accommodate different time zones and schedules.\n",
      "\n",
      "The concept of \"slowing down to speed up\" is embraced, recognizing that a more deliberate pace in development and communication could lead to more orderly and less chaotic operations, ultimately enhancing product quality and customer satisfaction.\n",
      "\n",
      "A 'train the trainer' approach is also discussed, where a designated individual from the solution center would be responsible for absorbing information during demos and subsequently disseminating it within the team. This method aims to streamline communication and ensure that critical updates are efficiently shared without overwhelming the entire team.\n",
      "\n",
      "The meeting concludes with plans to reconvene and address any unresolved issues, ensuring that all aspects of the proposed strategies are thoroughly understood and agreed upon. This reflects a proactive commitment to refining the processes and enhancing collaboration across departments to boost the reliability of product releases and overall customer satisfaction.\n"
     ]
    }
   ],
   "source": [
    "#summary bot\n",
    "\n",
    "llm = ChatOpenAI(openai_api_key=OPENAI_API_KEY, model_name='gpt-4-turbo', temperature=0)\n",
    "\n",
    "\n",
    "prompt = ChatPromptTemplate.from_messages(\n",
    "    [(\"system\", \"Write a detailed summary of the following:\\\\n\\\\n{text}\")]\n",
    ")\n",
    "\n",
    "# Instantiate chain\n",
    "chain = load_summarize_chain(llm, chain_type=\"stuff\", prompt=prompt)\n",
    "\n",
    "# Create Document objects from the filtered transcripts\n",
    "documents = transcribed_audio_trimmed_list\n",
    "\n",
    "docs = [Document(page_content=doc) for doc in documents]\n",
    "\n",
    "\n",
    "# Batching the docs if they're too long\n",
    "def batch_documents(docs, batch_size=1):\n",
    "    for i in range(0, len(docs), batch_size):\n",
    "        yield docs[i:i + batch_size]\n",
    "\n",
    "\n",
    "batch_summaries = []\n",
    "for batch in batch_documents(docs):\n",
    "    combined_text = '\\n\\n'.join([doc.page_content for doc in batch])\n",
    "    summary = chain.run(input_documents=batch)\n",
    "    batch_summaries.append(summary)\n",
    "\n",
    "# summarize all summaries\n",
    "final_input_docs = [Document(page_content=summary) for summary in batch_summaries]\n",
    "final_summary = chain.run(input_documents=final_input_docs)\n",
    "\n",
    "print(final_summary)"
   ]
  },
  {
   "cell_type": "code",
   "execution_count": 25,
   "id": "093dc255",
   "metadata": {},
   "outputs": [
    {
     "name": "stdout",
     "output_type": "stream",
     "text": [
      "-Generate and store output for integrations prior to every release to compare\n",
      "-Develop a train-the-trainer model for disseminating information within the organization\n",
      "-Include Solution Center resources in demo meetings to stay updated on customization work\n",
      "-Formalize the process for booking QA resources for testing prior to releases\n",
      "-Implement API performance testing as part of the testing scope\n",
      "-Improve management of accesses to connectors and two-factor authentication for better confidence\n",
      "-Plan API performance testing for the roadmap and schedule it accordingly.\n"
     ]
    }
   ],
   "source": [
    "from openai import OpenAI\n",
    "\n",
    "# Call to action bot\n",
    "prompt2 = \"\"\"You are an intelligent assistant tasked with extracting all unique calls to action from the following text. Return each call to action seperately with a newline character. For example:\n",
    "\n",
    "-Call to Action 1\n",
    "-Call to Action 2\n",
    "-Call to Action 3\n",
    "...\n",
    "\n",
    "Here is the text:\n",
    "\"\"\"\n",
    "client = OpenAI()\n",
    "# Instantiate chain\n",
    "chain2 = client.chat.completions.create(\n",
    "    model=OPENAI_MODEL,\n",
    "    messages=[{'role': 'system', 'content': prompt2},\n",
    "              {'role': 'user', 'content': transcribed_audio}]\n",
    ")\n",
    "\n",
    "calls = chain2.choices[0].message.content\n",
    "print(calls)"
   ]
  },
  {
   "cell_type": "code",
   "execution_count": 26,
   "id": "40786b72",
   "metadata": {},
   "outputs": [
    {
     "name": "stdout",
     "output_type": "stream",
     "text": [
      "Summary:\n",
      "\n",
      "The transcript from April 29, 2025, captures a critical meeting led by Zain Master, focusing on enhancing customer confidence in product releases. The primary concern addressed is the need for improved testing methodologies that closely mirror the unique environments of individual customers. This approach is aimed at mitigating the recurring issues that necessitate continuous fixes, which have been a source of dissatisfaction among customers and internal teams alike.\n",
      "\n",
      "Zain proposes a collaborative strategy between the solution center, which has a deep understanding of customer implementations, and the core product team responsible for initial testing phases. This partnership is envisioned to enhance the effectiveness of the testing processes by incorporating insights from the solution center into the core team's efforts.\n",
      "\n",
      "The meeting also delves into the strategy of releasing updates in waves. This method has proven beneficial in early identification of issues by limiting the exposure of new releases to a smaller segment of the customer base initially. However, this staged release approach brings about challenges in communication, as customers awaiting new features need to be managed carefully to maintain their expectations and satisfaction.\n",
      "\n",
      "Terry Stone highlights the complexities involved in managing communications across different release waves. He points out the potential need for adjustments based on the feedback and results from initial waves. Additionally, Terry mentions the necessity for improved infrastructure and hosting solutions to support the segmented release strategy effectively.\n",
      "\n",
      "The discussion also covers the logistical aspects of resource allocation for testing new releases. Petr Klen and Radim Moravec emphasize the importance of securing QA resources well in advance. They suggest implementing a formalized process, possibly through a ticketing system, to streamline the request and management of these essential resources.\n",
      "\n",
      "A consensus is reached on the need for a structured testing approach. This would involve identifying key customers and functionalities for testing based on the complexity of their setups and the nature of changes in each release. Such a strategy requires meticulous coordination between the core product team and the solution center to ensure comprehensive coverage and timely resolution of any arising issues.\n",
      "\n",
      "Furthermore, the meeting addresses the need for better integration of the solution center in the development cycle. It is proposed that the solution center team be included in demo meetings at the end of each sprint to stay abreast of changes, especially those affecting APIs which could impact customer implementations. The idea of recording these demos for asynchronous viewing is also suggested to accommodate different time zones and schedules.\n",
      "\n",
      "The concept of \"slowing down to speed up\" is embraced, recognizing that a more deliberate pace in development and communication could lead to more orderly and less chaotic operations, ultimately enhancing product quality and customer satisfaction.\n",
      "\n",
      "A 'train the trainer' approach is also discussed, where a designated individual from the solution center would be responsible for absorbing information during demos and subsequently disseminating it within the team. This method aims to streamline communication and ensure that critical updates are efficiently shared without overwhelming the entire team.\n",
      "\n",
      "The meeting concludes with plans to reconvene and address any unresolved issues, ensuring that all aspects of the proposed strategies are thoroughly understood and agreed upon. This reflects a proactive commitment to refining the processes and enhancing collaboration across departments to boost the reliability of product releases and overall customer satisfaction.\n",
      "\n",
      "Calls to Action:\n",
      "\n",
      "-Generate and store output for integrations prior to every release to compare\n",
      "\n",
      "-Develop a train-the-trainer model for disseminating information within the organization\n",
      "\n",
      "-Include Solution Center resources in demo meetings to stay updated on customization work\n",
      "\n",
      "-Formalize the process for booking QA resources for testing prior to releases\n",
      "\n",
      "-Implement API performance testing as part of the testing scope\n",
      "\n",
      "-Improve management of accesses to connectors and two-factor authentication for better confidence\n",
      "\n",
      "-Plan API performance testing for the roadmap and schedule it accordingly.\n"
     ]
    }
   ],
   "source": [
    "meeting_results = {'summary': final_summary, 'action calls': calls}\n",
    "\n",
    "meeting_results['summary'] = 'Summary:\\n\\n' + meeting_results['summary'] + '\\n'\n",
    "meeting_results['action calls'] = ('Calls to Action:\\n' + meeting_results['action calls']).replace('\\n', '\\n\\n')\n",
    "\n",
    "print(meeting_results['summary'])\n",
    "print(meeting_results['action calls'])"
   ]
  },
  {
   "cell_type": "code",
   "execution_count": null,
   "id": "6e6d690a",
   "metadata": {},
   "outputs": [
    {
     "name": "stderr",
     "output_type": "stream",
     "text": [
      "C:\\Users\\Nik\\AppData\\Local\\Temp\\ipykernel_32236\\653341844.py:8: LangChainDeprecationWarning: The class `HuggingFaceEmbeddings` was deprecated in LangChain 0.2.2 and will be removed in 1.0. An updated version of the class exists in the :class:`~langchain-huggingface package and should be used instead. To use it run `pip install -U :class:`~langchain-huggingface` and import as `from :class:`~langchain_huggingface import HuggingFaceEmbeddings``.\n",
      "  embeddings = SentenceTransformerEmbeddings(model_name='all-mpnet-base-v2')\n"
     ]
    },
    {
     "name": "stdout",
     "output_type": "stream",
     "text": [
      "WARNING:tensorflow:From c:\\Users\\Nik\\anaconda3\\envs\\dev\\Lib\\site-packages\\tf_keras\\src\\losses.py:2976: The name tf.losses.sparse_softmax_cross_entropy is deprecated. Please use tf.compat.v1.losses.sparse_softmax_cross_entropy instead.\n",
      "\n",
      "Summary:\n",
      "\n",
      "The meeting discussed various topics related to improving the testing process for releases, focusing on increasing confidence in releases and addressing issues related to customer implementations, API integrations, and performance testing. Key points included the need for cross-collaboration between Solution Center and Core Product teams, the importance of testing integrations and APIs, and the necessity of improving access management for connectors. The meeting also highlighted the significance of proactive participation from Solution Center in understanding core functionality changes and the need for a structured process to ensure effective testing and communication between teams.\n",
      "\n",
      "Calls to Action:\n",
      "\n",
      "- Generate and store output for integrations prior to every release to compare\n",
      "\n",
      "- Start tracking and comparing API performance testing results\n",
      "\n",
      "- Implement a train-the-trainer model for disseminating information about changes to integrations and outputs\n",
      "\n",
      "- Schedule a demo at Pulse 2 for an early view of the release progress\n",
      "\n",
      "Context Result:\n",
      "\n",
      "The meeting discussed the need to improve the testing process to ensure that the releases are successful and do not cause issues for customers. They talked about the importance of testing integrations, APIs, and the output of data packages to ensure that everything is working as expected. There were also discussions about involving Solution Center in demos to keep them informed about changes and to proactively address any potential issues. Additionally, there were concerns raised about managing access to customer connectors and improving API performance testing. The goal was to enhance the overall testing process to increase confidence in the releases and prevent any disruptions to customers.\n"
     ]
    }
   ],
   "source": [
    "from langchain.embeddings import SentenceTransformerEmbeddings\n",
    "from langchain.vectorstores import FAISS\n",
    "from langchain.chains import RetrievalQA\n",
    "\n",
    "# test query bot\n",
    "\n",
    "results = [transcribed_audio, meeting_results['summary'], meeting_results['action calls']]\n",
    "\n",
    "embeddings = SentenceTransformerEmbeddings(model_name='all-mpnet-base-v2')\n",
    "\n",
    "docsearch = FAISS.from_texts(\n",
    "    texts=results,\n",
    "    embedding=embeddings\n",
    ")\n",
    "\n",
    "llm3 = ChatOpenAI(openai_api_key=OPENAI_API_KEY, model=OPENAI_MODEL, temperature=0)\n",
    "\n",
    "qa = RetrievalQA.from_chain_type(\n",
    "    llm=llm3,\n",
    "    chain_type='stuff',\n",
    "    retriever=docsearch.as_retriever(search_kwargs={'k':1}),\n",
    "    return_source_documents=False\n",
    ")\n",
    "\n",
    "\n",
    "query = 'What is the summary for this meeting?'\n",
    "\n",
    "response = qa.invoke(query)\n",
    "print('Summary:\\n')\n",
    "print(response['result'] + '\\n')\n",
    "\n",
    "query_cta = 'What are the calls to action?'\n",
    "\n",
    "response_cta = qa.invoke(query_cta + ' Return output in bullet points')\n",
    "print('Calls to Action:\\n')\n",
    "print(response_cta['result'].replace('\\n', '\\n\\n') + '\\n')\n",
    "\n",
    "\n",
    "query_any = 'Can you provide more context on the concerns of the meeting?'\n",
    "\n",
    "response_any = qa.invoke(query_any)\n",
    "print('Context Result:\\n')\n",
    "print(response_any['result'].replace('\\n', '\\n\\n'))"
   ]
  },
  {
   "cell_type": "code",
   "execution_count": null,
   "id": "97fd069c",
   "metadata": {},
   "outputs": [],
   "source": [
    "# reading in tasks and completion time training data\n",
    "capacity = pd.read_csv('../Resources/CommonTasks.csv')\n",
    "\n",
    "capacity1 = capacity[['Common Tasks Types', 'Average Task duration in minutes']]\n",
    "list_capacity = capacity1.values.tolist()"
   ]
  },
  {
   "cell_type": "code",
   "execution_count": null,
   "id": "9a622c8e",
   "metadata": {},
   "outputs": [
    {
     "name": "stdout",
     "output_type": "stream",
     "text": [
      "- Generate and store output for integrations prior to every release to compare: (Setup API to store output: 60 mins)\n",
      "- Develop a train-the-trainer model for disseminating information within the organization: (Training others on job: 90 mins)\n",
      "- Include Solution Center resources in demo meetings to stay updated on customization work: (Provide Demo: 60 mins)\n",
      "- Formalize the process for booking QA resources for testing prior to releases: (Refine an existing process: 1200 mins)\n",
      "- Implement API performance testing as part of the testing scope: (API performance testing: 2400 mins)\n",
      "- Improve management of accesses to connectors and two-factor authentication for better confidence: (Unable to estimate)\n",
      "- Plan API performance testing for the roadmap and schedule it accordingly: (API performance testing: 2400 mins)\n"
     ]
    }
   ],
   "source": [
    "# bot trained to label CTAs with avg completion time\n",
    "cta_time_prompt = \"\"\"You are a smart and intelligent project manager that understand how much time it could take on average to complete an action item.\n",
    "You will take in a meeting transcript, and a table of common tasks and their estimated completion time in minutes.\n",
    "Based on all of the action items/calls from the uploaded meeting transcript, you will reference the table of common tasks and assign an approximate time value in minutes.\n",
    "If a task is hard for you to assign a time to complete, list the task followed by 'Unable to estimate'\n",
    "For every task to do, list the task followed by the duration on the same continuous line.\n",
    "Your output should be a list of every task from the list, and their average time to complete.\n",
    "Ensure each task entry and their duration to complete are one continuous line.\n",
    "An Example Output List:\n",
    "\n",
    "Task 1: (# Mins)\n",
    "Task 2: (# Mins)\n",
    "Task 3: (# Mins)\n",
    "Task X: (Unable to estimate).\n",
    "\"\"\"\n",
    "\n",
    "\n",
    "client = OpenAI()\n",
    "chain3 = client.chat.completions.create(\n",
    "model='gpt-4-turbo',\n",
    "messages=[{'role': 'system', 'content': cta_time_prompt},\n",
    "            {'role': 'system', 'content': f\"Task 1: {str(calls)}\\n Duration: {str(list_capacity)}\\n\"}]\n",
    ")\n",
    "\n",
    "cta_times_list = chain3.choices[0].message.content\n",
    "cta_times_list = cta_times_list.strip('\\n\\n')\n",
    "\n",
    "print(cta_times_list)"
   ]
  },
  {
   "cell_type": "code",
   "execution_count": null,
   "id": "dbd4a13a",
   "metadata": {},
   "outputs": [],
   "source": [
    "# example members dictionary test input\n",
    "names_dict = {\n",
    "    \"Petr Nesladek\": \"petr.nesladek@example.com\",\n",
    "    \"Petr Klen\": \"petr.klen@example.com\",\n",
    "    \"Terry Stone\": \"terry.stone@example.com\",\n",
    "    \"Radim Moravec\": \"radim.moravec@example.com\",\n",
    "    \"Lukas Kawulok\": \"lukas.kawulok@example.com\",\n",
    "    \"Rene Gruszkowski\": \"rene.gruszkowski@example.com\",\n",
    "    \"Stephen Pack\": \"stephen.pack@example.com\",\n",
    "    \"Gloria Kee\": \"gloria.kee@example.com\",\n",
    "    \"Jiri Sverepa\": \"jiri.sverepa@example.com\",\n",
    "    \"Chintan Modha\": \"chintan.modha@example.com\",\n",
    "    \"Petr Lofferman\": \"petr.lofferman@example.com\"\n",
    "}"
   ]
  },
  {
   "cell_type": "code",
   "execution_count": null,
   "id": "e21e86f7",
   "metadata": {},
   "outputs": [
    {
     "data": {
      "text/plain": [
       "['Petr Nesladek',\n",
       " 'Petr Klen',\n",
       " 'Terry Stone',\n",
       " 'Radim Moravec',\n",
       " 'Lukas Kawulok',\n",
       " 'Rene Gruszkowski',\n",
       " 'Stephen Pack',\n",
       " 'Gloria Kee',\n",
       " 'Jiri Sverepa',\n",
       " 'Chintan Modha',\n",
       " 'Petr Lofferman']"
      ]
     },
     "execution_count": 40,
     "metadata": {},
     "output_type": "execute_result"
    }
   ],
   "source": [
    "# grabbing the names to check for matches in transcript\n",
    "names_dict_list = list(names_dict.keys())\n",
    "names_dict_list"
   ]
  },
  {
   "cell_type": "code",
   "execution_count": 42,
   "id": "f410422e",
   "metadata": {},
   "outputs": [
    {
     "name": "stdout",
     "output_type": "stream",
     "text": [
      "Petr Nesladek\n",
      "Petr Klen\n",
      "Terry Stone\n",
      "Radim Moravec\n",
      "Lukas Kawulok\n",
      "Rene Gruszkowski\n",
      "Stephen Pack\n",
      "Gloria Kee\n",
      "Jiri Sverepa\n",
      "Chintan Modha\n"
     ]
    }
   ],
   "source": [
    "# NER bot\n",
    "prompt3 = \"\"\"You are a smart and intelligent Named Entity Recognition (NER) system. You will take in a list of possible Names that attended a meeting, and Identify all of the unique matching names that appear in the given meeting transcription.\n",
    "Importantly, your output should have each name separate with a newline character. For example:\n",
    "\n",
    "First Name Last Name 1\n",
    "First Name Last Name 2\n",
    "First Name Last Name 3\n",
    "...\n",
    "\n",
    "Here is the text:\n",
    "\"\"\"\n",
    "\n",
    "# Instantiate chain\n",
    "chain3 = client.chat.completions.create(\n",
    "    model=OPENAI_MODEL,\n",
    "    messages=[{'role': 'system', 'content': prompt3},\n",
    "              {'role': 'user', 'content': f'Names list: {names_dict_list}\\n Meeting Transcription {transcribed_audio}'}]\n",
    ")\n",
    "\n",
    "names = chain3.choices[0].message.content\n",
    "print(names)"
   ]
  },
  {
   "cell_type": "code",
   "execution_count": null,
   "id": "947c3fa1",
   "metadata": {},
   "outputs": [
    {
     "data": {
      "text/plain": [
       "['Terry Stone',\n",
       " 'Petr Klen',\n",
       " 'Stephen Pack',\n",
       " 'Zain Master',\n",
       " 'Lukas Kawulok',\n",
       " 'Radim Moravac']"
      ]
     },
     "execution_count": 32,
     "metadata": {},
     "output_type": "execute_result"
    }
   ],
   "source": [
    "# convert pulled names to list\n",
    "names_list = names.split('\\n')\n",
    "names_list"
   ]
  },
  {
   "cell_type": "code",
   "execution_count": null,
   "id": "3c5643de",
   "metadata": {},
   "outputs": [
    {
     "data": {
      "text/plain": [
       "['Terry Stone',\n",
       " 'Petr Klen',\n",
       " 'Stephen Pack',\n",
       " 'Zain Master',\n",
       " 'Lukas Kawulok',\n",
       " 'Radim Moravac']"
      ]
     },
     "execution_count": 32,
     "metadata": {},
     "output_type": "execute_result"
    }
   ],
   "source": [
    "# fuzzy match possible names with names pulled from LLM to account for LLM spelling errors\n",
    "\n",
    "from rapidfuzz import fuzz, process\n",
    "\n",
    "names = ['Terry Stone', 'Petr Klen', 'Stephen Pack', 'Zain Master', 'Lukas Kawulok', 'Radim Moravec', 'Petr Nesladek']\n",
    "\n",
    "threshold = 70\n",
    "matched_names = []\n",
    "\n",
    "for name in names_dict.keys():\n",
    "    match, score, _ = process.extractOne(name, names_list, scorer=fuzz.token_sort_ratio)\n",
    "    if score >= threshold:\n",
    "        matched_names.append(name)\n",
    "\n",
    "matched_names"
   ]
  },
  {
   "cell_type": "code",
   "execution_count": null,
   "id": "a07efd09",
   "metadata": {},
   "outputs": [
    {
     "data": {
      "text/plain": [
       "{'Terry Stone': 'terry.stone@example.com',\n",
       " 'Petr Klen': 'petr.klen@example.com',\n",
       " 'Stephen Pack': 'stephen.pack@example.com',\n",
       " 'Zain Master': 'zain.master@example.com',\n",
       " 'Lukas Kawulok': 'lukas.kawulok@example.com',\n",
       " 'Radim Moravac': 'radim.moravec@example.com'}"
      ]
     },
     "execution_count": 33,
     "metadata": {},
     "output_type": "execute_result"
    }
   ],
   "source": [
    "# filter input dict to drop entires that were not matched\n",
    "filtered_members = {k: v for k, v in names_dict.items() if k in matched_names}\n",
    "filtered_members"
   ]
  },
  {
   "cell_type": "code",
   "execution_count": null,
   "id": "35899921",
   "metadata": {},
   "outputs": [
    {
     "data": {
      "text/html": [
       "<div>\n",
       "<style scoped>\n",
       "    .dataframe tbody tr th:only-of-type {\n",
       "        vertical-align: middle;\n",
       "    }\n",
       "\n",
       "    .dataframe tbody tr th {\n",
       "        vertical-align: top;\n",
       "    }\n",
       "\n",
       "    .dataframe thead th {\n",
       "        text-align: right;\n",
       "    }\n",
       "</style>\n",
       "<table border=\"1\" class=\"dataframe\">\n",
       "  <thead>\n",
       "    <tr style=\"text-align: right;\">\n",
       "      <th></th>\n",
       "      <th>member</th>\n",
       "      <th>email</th>\n",
       "    </tr>\n",
       "  </thead>\n",
       "  <tbody>\n",
       "    <tr>\n",
       "      <th>0</th>\n",
       "      <td>Terry Stone</td>\n",
       "      <td>terry.stone@example.com</td>\n",
       "    </tr>\n",
       "    <tr>\n",
       "      <th>1</th>\n",
       "      <td>Petr Klen</td>\n",
       "      <td>petr.klen@example.com</td>\n",
       "    </tr>\n",
       "    <tr>\n",
       "      <th>2</th>\n",
       "      <td>Stephen Pack</td>\n",
       "      <td>stephen.pack@example.com</td>\n",
       "    </tr>\n",
       "    <tr>\n",
       "      <th>3</th>\n",
       "      <td>Zain Master</td>\n",
       "      <td>zain.master@example.com</td>\n",
       "    </tr>\n",
       "    <tr>\n",
       "      <th>4</th>\n",
       "      <td>Lukas Kawulok</td>\n",
       "      <td>lukas.kawulok@example.com</td>\n",
       "    </tr>\n",
       "    <tr>\n",
       "      <th>5</th>\n",
       "      <td>Radim Moravac</td>\n",
       "      <td>radim.moravec@example.com</td>\n",
       "    </tr>\n",
       "  </tbody>\n",
       "</table>\n",
       "</div>"
      ],
      "text/plain": [
       "          member                      email\n",
       "0    Terry Stone    terry.stone@example.com\n",
       "1      Petr Klen      petr.klen@example.com\n",
       "2   Stephen Pack   stephen.pack@example.com\n",
       "3    Zain Master    zain.master@example.com\n",
       "4  Lukas Kawulok  lukas.kawulok@example.com\n",
       "5  Radim Moravac  radim.moravec@example.com"
      ]
     },
     "execution_count": 35,
     "metadata": {},
     "output_type": "execute_result"
    }
   ],
   "source": [
    "# convert to dataframe\n",
    "members_info = pd.DataFrame({'member': filtered_members.keys(), 'email': filtered_members.values()})\n",
    "members_info"
   ]
  },
  {
   "cell_type": "code",
   "execution_count": null,
   "id": "15242e39",
   "metadata": {},
   "outputs": [],
   "source": [
    "# create list of identified ctas\n",
    "meeting_results_action_list = list(meeting_results['action calls'])"
   ]
  },
  {
   "cell_type": "code",
   "execution_count": null,
   "id": "5015d36e",
   "metadata": {},
   "outputs": [
    {
     "name": "stdout",
     "output_type": "stream",
     "text": [
      "Terry Stone: There were no calls to action directed towards you.\n",
      "Petr Klen: There were no calls to action directed towards you.\n",
      "Stephen Pack: Capture the process of reaching out for resources to formalize it.\n",
      "Zain Master: Generate and store output for integrations prior to every release to compare.\n",
      "Lukas Kawulok: There were no calls to action directed towards you.\n",
      "Radim Moravac: There were no calls to action directed towards you.\n"
     ]
    }
   ],
   "source": [
    "# NER bot 2 - matches ctas to names\n",
    "prompt4 = \"\"\"You are a highly accurate Named Entity Recognition (NER) system.  \n",
    "Your task is to analyze a meeting transcription along a list of Calls to Action (CTAs) and identify Calls to Action (CTAs) directed at individuals from a provided list of names.\n",
    "\n",
    "Instructions:\n",
    "1. For each name in the list, check if a unique task or action was assigned or implied in the transcription.\n",
    "2. If a task exists, return the name followed by the task — all in one line.\n",
    "3. If no task exists for a name, return the name followed by: \"There were no calls to action directed towards you.\"\n",
    "\n",
    "⚠️ Ensure:\n",
    "- Every name from the input list is accounted for in the output — no omissions.\n",
    "- The output is structured as a clean list: one name per line, followed by the corresponding task or message.\n",
    "\n",
    "Example Output Format:\n",
    "Name 1: Follow up with the client on the pricing details.\n",
    "Name 2: Prepare the Q2 financial report.\n",
    "Name 3: There were no calls to action directed towards you.\n",
    "\n",
    "Begin processing now.\"\"\"\n",
    "\n",
    "# Instantiate chain\n",
    "chain4 = client.chat.completions.create(\n",
    "    model='gpt-4-turbo',\n",
    "    messages=[{'role': 'system', 'content': prompt4},\n",
    "              {'role': 'user', 'content': f\"Names: {str(matched_names)}\\n Meeting: {transcribed_audio}\\n Calls to Action {meeting_results_action_list}\"}]\n",
    ")\n",
    "\n",
    "names_calls = chain4.choices[0].message.content\n",
    "name_calls = names_calls.strip('\\n \\n')\n",
    "print(names_calls)"
   ]
  },
  {
   "cell_type": "code",
   "execution_count": null,
   "id": "93f3c1e1",
   "metadata": {},
   "outputs": [
    {
     "data": {
      "text/plain": [
       "['Terry Stone',\n",
       " 'There were no calls to action directed towards you.',\n",
       " 'Petr Klen',\n",
       " 'There were no calls to action directed towards you.',\n",
       " 'Stephen Pack',\n",
       " 'Capture the process of reaching out for resources to formalize it.',\n",
       " 'Zain Master',\n",
       " 'Generate and store output for integrations prior to every release to compare.',\n",
       " 'Lukas Kawulok',\n",
       " 'There were no calls to action directed towards you.',\n",
       " 'Radim Moravac',\n",
       " 'There were no calls to action directed towards you.']"
      ]
     },
     "execution_count": 38,
     "metadata": {},
     "output_type": "execute_result"
    }
   ],
   "source": [
    "# split returned strings by Member: and cta\n",
    "import re\n",
    "\n",
    "delimiters = [r\": \", \"\\n\"]\n",
    "pattern = \"|\".join(map(re.escape, delimiters))\n",
    "\n",
    "names_calls_list = re.split(pattern, names_calls)\n",
    "names_calls_list"
   ]
  },
  {
   "cell_type": "code",
   "execution_count": null,
   "id": "a92ecfc9",
   "metadata": {},
   "outputs": [
    {
     "data": {
      "text/html": [
       "<div>\n",
       "<style scoped>\n",
       "    .dataframe tbody tr th:only-of-type {\n",
       "        vertical-align: middle;\n",
       "    }\n",
       "\n",
       "    .dataframe tbody tr th {\n",
       "        vertical-align: top;\n",
       "    }\n",
       "\n",
       "    .dataframe thead th {\n",
       "        text-align: right;\n",
       "    }\n",
       "</style>\n",
       "<table border=\"1\" class=\"dataframe\">\n",
       "  <thead>\n",
       "    <tr style=\"text-align: right;\">\n",
       "      <th></th>\n",
       "      <th>member</th>\n",
       "      <th>action</th>\n",
       "    </tr>\n",
       "  </thead>\n",
       "  <tbody>\n",
       "    <tr>\n",
       "      <th>0</th>\n",
       "      <td>Terry Stone</td>\n",
       "      <td>There were no calls to action directed towards...</td>\n",
       "    </tr>\n",
       "    <tr>\n",
       "      <th>1</th>\n",
       "      <td>Petr Klen</td>\n",
       "      <td>There were no calls to action directed towards...</td>\n",
       "    </tr>\n",
       "    <tr>\n",
       "      <th>2</th>\n",
       "      <td>Stephen Pack</td>\n",
       "      <td>Capture the process of reaching out for resour...</td>\n",
       "    </tr>\n",
       "    <tr>\n",
       "      <th>3</th>\n",
       "      <td>Zain Master</td>\n",
       "      <td>Generate and store output for integrations pri...</td>\n",
       "    </tr>\n",
       "    <tr>\n",
       "      <th>4</th>\n",
       "      <td>Lukas Kawulok</td>\n",
       "      <td>There were no calls to action directed towards...</td>\n",
       "    </tr>\n",
       "    <tr>\n",
       "      <th>5</th>\n",
       "      <td>Radim Moravac</td>\n",
       "      <td>There were no calls to action directed towards...</td>\n",
       "    </tr>\n",
       "  </tbody>\n",
       "</table>\n",
       "</div>"
      ],
      "text/plain": [
       "          member                                             action\n",
       "0    Terry Stone  There were no calls to action directed towards...\n",
       "1      Petr Klen  There were no calls to action directed towards...\n",
       "2   Stephen Pack  Capture the process of reaching out for resour...\n",
       "3    Zain Master  Generate and store output for integrations pri...\n",
       "4  Lukas Kawulok  There were no calls to action directed towards...\n",
       "5  Radim Moravac  There were no calls to action directed towards..."
      ]
     },
     "execution_count": 39,
     "metadata": {},
     "output_type": "execute_result"
    }
   ],
   "source": [
    "# converting split results into dataframe\n",
    "meeting_actions = {}\n",
    "i = 0\n",
    "while i < len(names_calls_list) - 1:\n",
    "    name = names_calls_list[i].strip()\n",
    "    action = names_calls_list[i + 1].strip()\n",
    "    meeting_actions[name] = action\n",
    "    i += 2\n",
    "\n",
    "meeting_actions = pd.DataFrame.from_dict([meeting_actions]).T.reset_index().rename(columns={'index': 'member', 0: 'action'})\n",
    "meeting_actions"
   ]
  },
  {
   "cell_type": "code",
   "execution_count": null,
   "id": "4522f117",
   "metadata": {},
   "outputs": [
    {
     "data": {
      "text/plain": [
       "<bound method DataFrame.info of           member                                             action\n",
       "0    Terry Stone  There were no calls to action directed towards...\n",
       "1      Petr Klen  There were no calls to action directed towards...\n",
       "2   Stephen Pack  Capture the process of reaching out for resour...\n",
       "3    Zain Master  Generate and store output for integrations pri...\n",
       "4  Lukas Kawulok  There were no calls to action directed towards...\n",
       "5  Radim Moravac  There were no calls to action directed towards...>"
      ]
     },
     "execution_count": 40,
     "metadata": {},
     "output_type": "execute_result"
    }
   ],
   "source": [
    "# checking if names match\n",
    "meeting_actions.info"
   ]
  },
  {
   "cell_type": "code",
   "execution_count": null,
   "id": "5a8fa73f",
   "metadata": {},
   "outputs": [
    {
     "data": {
      "text/plain": [
       "<bound method DataFrame.info of           member                      email\n",
       "0    Terry Stone    terry.stone@example.com\n",
       "1      Petr Klen      petr.klen@example.com\n",
       "2   Stephen Pack   stephen.pack@example.com\n",
       "3    Zain Master    zain.master@example.com\n",
       "4  Lukas Kawulok  lukas.kawulok@example.com\n",
       "5  Radim Moravac  radim.moravec@example.com>"
      ]
     },
     "execution_count": 41,
     "metadata": {},
     "output_type": "execute_result"
    }
   ],
   "source": [
    "# checking if names match\n",
    "members_info.info"
   ]
  },
  {
   "cell_type": "code",
   "execution_count": null,
   "id": "44f8f3b0",
   "metadata": {},
   "outputs": [
    {
     "data": {
      "text/plain": [
       "['Terry Stone',\n",
       " 'Petr Klen',\n",
       " 'Stephen Pack',\n",
       " 'Zain Master',\n",
       " 'Lukas Kawulok',\n",
       " 'Radim Moravac']"
      ]
     },
     "execution_count": 42,
     "metadata": {},
     "output_type": "execute_result"
    }
   ],
   "source": [
    "# another fuzzy match to fix spelling of names from cta-names match LLM if need be\n",
    "info = list(members_info['member'].values)\n",
    "\n",
    "actions = list(meeting_actions['member'].values)\n",
    "\n",
    "\n",
    "threshold = 70\n",
    "\n",
    "matched_names_actions = []\n",
    "\n",
    "for name in info:\n",
    "    match, score, _ = process.extractOne(name, actions, scorer=fuzz.token_sort_ratio)\n",
    "    if score >= threshold:\n",
    "        matched_names_actions.append(name)\n",
    "\n",
    "matched_names_actions"
   ]
  },
  {
   "cell_type": "code",
   "execution_count": null,
   "id": "0cd7ef06",
   "metadata": {},
   "outputs": [],
   "source": [
    "# overwriting with correct spelling\n",
    "meeting_actions['member'] = matched_names_actions"
   ]
  },
  {
   "cell_type": "code",
   "execution_count": null,
   "id": "b13c0ebe",
   "metadata": {},
   "outputs": [
    {
     "data": {
      "text/html": [
       "<div>\n",
       "<style scoped>\n",
       "    .dataframe tbody tr th:only-of-type {\n",
       "        vertical-align: middle;\n",
       "    }\n",
       "\n",
       "    .dataframe tbody tr th {\n",
       "        vertical-align: top;\n",
       "    }\n",
       "\n",
       "    .dataframe thead th {\n",
       "        text-align: right;\n",
       "    }\n",
       "</style>\n",
       "<table border=\"1\" class=\"dataframe\">\n",
       "  <thead>\n",
       "    <tr style=\"text-align: right;\">\n",
       "      <th></th>\n",
       "      <th>member</th>\n",
       "      <th>action</th>\n",
       "      <th>email</th>\n",
       "    </tr>\n",
       "  </thead>\n",
       "  <tbody>\n",
       "    <tr>\n",
       "      <th>0</th>\n",
       "      <td>Lukas Kawulok</td>\n",
       "      <td>There were no calls to action directed towards...</td>\n",
       "      <td>lukas.kawulok@example.com</td>\n",
       "    </tr>\n",
       "    <tr>\n",
       "      <th>1</th>\n",
       "      <td>Petr Klen</td>\n",
       "      <td>There were no calls to action directed towards...</td>\n",
       "      <td>petr.klen@example.com</td>\n",
       "    </tr>\n",
       "    <tr>\n",
       "      <th>2</th>\n",
       "      <td>Radim Moravac</td>\n",
       "      <td>There were no calls to action directed towards...</td>\n",
       "      <td>radim.moravec@example.com</td>\n",
       "    </tr>\n",
       "    <tr>\n",
       "      <th>3</th>\n",
       "      <td>Stephen Pack</td>\n",
       "      <td>Capture the process of reaching out for resour...</td>\n",
       "      <td>stephen.pack@example.com</td>\n",
       "    </tr>\n",
       "    <tr>\n",
       "      <th>4</th>\n",
       "      <td>Terry Stone</td>\n",
       "      <td>There were no calls to action directed towards...</td>\n",
       "      <td>terry.stone@example.com</td>\n",
       "    </tr>\n",
       "    <tr>\n",
       "      <th>5</th>\n",
       "      <td>Zain Master</td>\n",
       "      <td>Generate and store output for integrations pri...</td>\n",
       "      <td>zain.master@example.com</td>\n",
       "    </tr>\n",
       "  </tbody>\n",
       "</table>\n",
       "</div>"
      ],
      "text/plain": [
       "          member                                             action  \\\n",
       "0  Lukas Kawulok  There were no calls to action directed towards...   \n",
       "1      Petr Klen  There were no calls to action directed towards...   \n",
       "2  Radim Moravac  There were no calls to action directed towards...   \n",
       "3   Stephen Pack  Capture the process of reaching out for resour...   \n",
       "4    Terry Stone  There were no calls to action directed towards...   \n",
       "5    Zain Master  Generate and store output for integrations pri...   \n",
       "\n",
       "                       email  \n",
       "0  lukas.kawulok@example.com  \n",
       "1      petr.klen@example.com  \n",
       "2  radim.moravec@example.com  \n",
       "3   stephen.pack@example.com  \n",
       "4    terry.stone@example.com  \n",
       "5    zain.master@example.com  "
      ]
     },
     "execution_count": 44,
     "metadata": {},
     "output_type": "execute_result"
    }
   ],
   "source": [
    "# merging names - ctas with info\n",
    "meeting_actions_emails = pd.merge(meeting_actions, members_info, on='member', how='outer')\n",
    "meeting_actions_emails"
   ]
  },
  {
   "cell_type": "code",
   "execution_count": 45,
   "id": "f1887a03",
   "metadata": {},
   "outputs": [
    {
     "data": {
      "text/plain": [
       "\"{'summary': 'Summary:\\\\n\\\\nThe transcript from April 29, 2025, outlines a critical meeting led by Zain Master, focusing on enhancing customer confidence in product releases. The primary concern addressed is the challenge of customer-specific customizations and environments, which have historically led to compatibility issues, resulting in a repetitive cycle of releases and fixes. This cycle has caused frustration both within the company and among customers.\\\\n\\\\nZain Master proposes a strategy aimed at fostering better collaboration between the solution center and the core product team. The solution center has a deep understanding of customer implementations, while the core product team is responsible for initial testing. By integrating these teams, the company aims to ensure that testing is thorough and that updates do not lead to significant issues post-release.\\\\n\\\\nA significant part of the strategy involves releasing updates in waves. This approach allows for smaller-scale initial deployments that can be closely monitored for any issues before a broader release. This method is intended to protect major revenue-generating customers from potential disruptions caused by new software updates.\\\\n\\\\nDuring the meeting, team members including Lukas Kawulok and Stephen Pack share insights from past failures and express their support for the wave-based release strategy. They emphasize the importance of maintaining clear communication with customers regarding the timing and nature of releases. However, concerns are raised about the logistical complexities involved in managing multiple waves of releases, especially in terms of communication and infrastructure requirements.\\\\n\\\\nTerry Stone delves into the technical and operational challenges, discussing the need for multiple gateways to manage different release waves and the importance of proper DNS routing. The team also considers the necessity of aligning releases in lower environments with those in production to ensure consistency across the board.\\\\n\\\\nThe discussion on resource allocation highlights the need for booking quality assurance (QA) resources well in advance. Petr Klen and Radim Moravec stress the importance of formalizing the booking process to guarantee resource availability. They suggest using JIRA tickets to systematize the initiation of resource booking, with project managers playing a crucial role in managing these allocations.\\\\n\\\\nAs the meeting progresses, the focus shifts to establishing a robust communication and testing protocol during the release hardening phase. This involves regular updates and decision-making forums that include both the core team and the solution center. The possibility of maintaining a dedicated communication channel to address issues promptly is also discussed.\\\\n\\\\nIn conclusion, the meeting underscores the complexities involved in releasing customized software products. It highlights the critical importance of strategic planning, resource management, and communication in ensuring successful and confident product releases to customers. The proposed strategies and discussions aim to improve collaboration and communication between the solution center and the core development team, using an Agile framework to manage software development effectively. The goal is to streamline processes, reduce potential errors, and ensure all teams are well-informed and prepared for changes, ultimately minimizing the impact on customers and enhancing their confidence in the product releases.\\\\n', 'action calls': 'Calls to Action:\\\\n\\\\n-Generate and store output for integrations prior to every release to compare.\\\\n\\\\n-Schedule another meeting to discuss performance testing and API integrations roadmap.\\\\n\\\\n-Return to Peter Loffelmann and try a proof of concept for connector access management.\\\\n\\\\n-Improve management of access to customer connectors.\\\\n\\\\n-Add API performance testing to the scope of testing.\\\\n\\\\n-Plan API performance testing in the roadmap.'}\""
      ]
     },
     "execution_count": 45,
     "metadata": {},
     "output_type": "execute_result"
    }
   ],
   "source": [
    "str(meeting_results)"
   ]
  },
  {
   "cell_type": "code",
   "execution_count": null,
   "id": "980176b2",
   "metadata": {},
   "outputs": [
    {
     "name": "stdout",
     "output_type": "stream",
     "text": [
      "Generated email for Lukas Kawulok (lukas.kawulok@example.com)\n",
      "Generated email for Petr Klen (petr.klen@example.com)\n",
      "Generated email for Radim Moravac (radim.moravec@example.com)\n",
      "Generated email for Stephen Pack (stephen.pack@example.com)\n",
      "Generated email for Terry Stone (terry.stone@example.com)\n",
      "Generated email for Zain Master (zain.master@example.com)\n",
      "\n",
      "--- Generated Emails ---\n",
      "To: lukas.kawulok@example.com\n",
      "\n",
      "From: znpmeetingassistant@gmail.com\n",
      "\n",
      "Subject: Summary and Action Items from April 29, 2025 Meeting\n",
      "\n",
      "Hi Lukas,\n",
      "\n",
      "I hope this email finds you well. Below is a summary of the meeting held on April 29, 2025, focusing on enhancing customer confidence in product releases:\n",
      "\n",
      "Meeting Summary:\n",
      "\n",
      "The meeting, led by Zain Master, highlighted the challenges related to customer-specific customizations and compatibility issues post-release. A strategy was proposed to integrate the solution center and core product team for thorough testing and implementing wave-based release updates to mitigate disruptions for key customers.\n",
      "\n",
      "Key Action Items:\n",
      "\n",
      "- Capture the process of reaching out for resources to formalize it.\n",
      "\n",
      "Specific Call to Action for Lukas Kawulok:\n",
      "\n",
      "Lukas, while there were no specific actions assigned to you during this meeting, please continue your valuable contributions to the team's initiatives in creating a seamless collaboration between the solution center and the core product team.\n",
      "\n",
      "Thank you for your dedication and support. If you have any questions or need further information, feel free to reach out.\n",
      "\n",
      "Best regards,\n",
      "\n",
      "ZNP Meeting Assistant\n",
      "\n",
      "! Warning ! Assignments of tasks and summaries generated by this Bot may be inaccurate. Please cross-check with the Meeting Organizer / Team Lead for validation.\n",
      "To: petr.klen@example.com\n",
      "\n",
      "From: znpmeetingassistant@gmail.com\n",
      "\n",
      "Subject: Summary and Calls to Action from April 29, 2025 Meeting\n",
      "\n",
      "This email summarizes the critical meeting held on April 29, 2025, focusing on enhancing customer confidence in product releases.\n",
      "\n",
      "Meeting Summary:\n",
      "\n",
      "The meeting, led by Zain Master, addressed the challenges posed by customer-specific customizations and environments, aiming to prevent compatibility issues and the repetitive cycle of releases and fixes. The proposed strategy involves fostering collaboration between the solution center and the core product team, releasing updates in waves to ensure thorough testing and protect major customers from disruptions. The importance of communication, resource allocation, and an Agile framework for effective software development was highlighted.\n",
      "\n",
      "Calls to Action:\n",
      "\n",
      "- Generate and store output for integrations prior to every release to compare.\n",
      "- Schedule another meeting to discuss performance testing and API integrations roadmap.\n",
      "- Return to Peter Loffelmann and try a proof of concept for connector access management.\n",
      "- Improve management of access to customer connectors.\n",
      "- Add API performance testing to the scope of testing.\n",
      "- Plan API performance testing in the roadmap.\n",
      "\n",
      "Specific Call to Action for Petr Klen:\n",
      "\n",
      "There were no specific calls to action directed towards you in this meeting. If you have any questions or require further clarification, please reach out.\n",
      "\n",
      "Thank you for your participation in the meeting.\n",
      "\n",
      "Best regards,\n",
      "ZNP Meeting Assistant\n",
      "\n",
      "! Warning ! Assignments of tasks and Summaries generated by this Bot may be inaccurate. Please be sure to follow up with Meeting Organizer / Team Lead\n",
      "\n",
      "To: radim.moravec@example.com\n",
      "\n",
      "From: znpmeetingassistant@gmail.com\n",
      "\n",
      "Subject: Summary of April 29, 2025 Meeting on Product Release Strategies\n",
      "\n",
      "This email summarizes the critical meeting held on April 29, 2025, led by Zain Master, focusing on enhancing customer confidence in product releases.\n",
      "\n",
      "Meeting Summary:\n",
      "\n",
      "The meeting addressed the challenges posed by customer-specific customizations and environments, causing compatibility issues in product releases. A strategy was proposed to foster collaboration between the solution center and the core product team, aiming to improve testing and release processes. The strategy involves releasing updates in waves to ensure thorough testing and minimize disruptions for major customers.\n",
      "\n",
      "Key discussion points included:\n",
      "\n",
      "- Importance of clear communication with customers regarding releases\n",
      "- Logistical complexities of managing multiple release waves\n",
      "- Technical challenges in managing different release gateways and DNS routing\n",
      "- Formalizing resource booking processes for quality assurance (QA) resources\n",
      "- Establishing communication and testing protocols during release hardening phase\n",
      "\n",
      "Calls to Action:\n",
      "\n",
      "- Generate and store output for integrations prior to every release to compare.\n",
      "- Schedule another meeting to discuss performance testing and API integrations roadmap.\n",
      "- Return to Peter Loffelmann and try a proof of concept for connector access management.\n",
      "- Improve management of access to customer connectors.\n",
      "- Add API performance testing to the scope of testing.\n",
      "- Plan API performance testing in the roadmap.\n",
      "\n",
      "Specific Call to Action for Radim Moravac:\n",
      "\n",
      "Radim, there were no specific actions assigned to you during the meeting. If you have any insights or contributions related to the discussed topics, please feel free to share them with the team.\n",
      "\n",
      "Thank you for your attention to this summary. If you have any questions or need further clarification, please let me know.\n",
      "\n",
      "Best regards,\n",
      "ZNP Meeting Assistant\n",
      "\n",
      "*! Warning ! Assignments of tasks and Summaries generated by this Bot may be inaccurate. Please verify and follow up with the Meeting Organizer / Team Lead for confirmation.*\n",
      "To: stephen.pack@example.com\n",
      "\n",
      "From: znpmeetingassistant@gmail.com\n",
      "\n",
      "Subject: Follow-Up on Customer Confidence Enhancement Meeting - Action Items\n",
      "\n",
      "Hi Stephen,\n",
      "\n",
      "I hope this email finds you well. I am writing to provide you with a summary of the recent meeting held on April 29, 2025, focusing on enhancing customer confidence in product releases led by Zain Master. Below is a summary of the key points discussed during the meeting:\n",
      "\n",
      "Meeting Summary:\n",
      "\n",
      "The meeting centered around the challenges posed by customer-specific customizations and environments, which have historically caused compatibility issues in product releases. To address this, a strategy was proposed to foster collaboration between the solution center and the core product team to ensure thorough testing and minimize post-release issues. The strategy includes releasing updates in waves to allow for smaller-scale deployments and better monitoring.\n",
      "\n",
      "Calls to Action:\n",
      "\n",
      "- Generate and store output for integrations prior to every release to compare.\n",
      "- Schedule another meeting to discuss performance testing and API integrations roadmap.\n",
      "- Return to Peter Loffelmann and try a proof of concept for connector access management.\n",
      "- Improve management of access to customer connectors.\n",
      "- Add API performance testing to the scope of testing.\n",
      "- Plan API performance testing in the roadmap.\n",
      "\n",
      "Specific Call to Action for Stephen Pack:\n",
      "\n",
      "Stephen, your specific action item is to capture the process of reaching out for resources to formalize it. This will help establish a formalized process for booking QA resources to ensure availability. Please document and systematize this process to enhance resource management efficiency. Kindly update the team on your progress.\n",
      "\n",
      "Thank you for your contributions to the meeting. Should you require any clarification or have further questions, please feel free to reach out. \n",
      "\n",
      "Best regards,\n",
      "\n",
      "ZNP Meeting Assistant\n",
      "\n",
      "*! Warning ! Assignments of tasks and Summaries generated by this Bot may be inaccurate. Please double-check with the Meeting Organizer/Team Lead for confirmation.\n",
      "To: terry.stone@example.com\n",
      "\n",
      "From: znpmeetingassistant@gmail.com\n",
      "\n",
      "Subject: Recap of April 29, 2025 Meeting Discussion on Enhancing Customer Confidence in Product Releases\n",
      "\n",
      "Dear Terry Stone,\n",
      "\n",
      "I hope this email finds you well. Below is a summary of the key points discussed during the meeting on April 29, 2025, regarding enhancing customer confidence in product releases:\n",
      "\n",
      "Meeting Summary:\n",
      "\n",
      "The meeting, led by Zain Master, focused on addressing the challenge of customer-specific customizations and environments that have historically led to compatibility issues and repetitive cycles of releases and fixes. The proposed strategy aims to foster better collaboration between the solution center and the core product team, with the goal of ensuring thorough testing and minimizing post-release issues. The strategy includes releasing updates in waves to allow for smaller-scale deployments and meticulous monitoring.\n",
      "\n",
      "Calls to Action:\n",
      "\n",
      "- Generate and store output for integrations prior to every release to compare.\n",
      "- Schedule another meeting to discuss performance testing and API integrations roadmap.\n",
      "- Return to Peter Loffelmann to try a proof of concept for connector access management.\n",
      "- Improve management of access to customer connectors.\n",
      "- Add API performance testing to the scope of testing.\n",
      "- Plan API performance testing in the roadmap.\n",
      "\n",
      "Specific Call to Action for Stephen Pack:\n",
      "\n",
      "Stephen, your specific task is to capture the process of reaching out for resources to formalize it. Please document this process and share it with the team for formalization.\n",
      "\n",
      "Thank you for your dedication and contributions to the meeting. Should you have any questions or need further clarification, please feel free to reach out.\n",
      "\n",
      "Best regards,\n",
      "ZNP Meeting Assistant\n",
      "\n",
      "*! Warning! Assignments of tasks and Summaries generated by this Bot may be inaccurate. Please be sure to follow up with Meeting Organizer / Team Lead*\n",
      "To: zain.master@example.com\n",
      "\n",
      "From: znpmeetingassistant@gmail.com\n",
      "\n",
      "Subject: Summary of April 29, 2025 Meeting\n",
      "\n",
      "This email summarizes the critical meeting held on April 29, 2025, led by Zain Master, focusing on enhancing customer confidence in product releases.\n",
      "\n",
      "Meeting Summary:\n",
      "\n",
      "The meeting delved into fostering better collaboration between the solution center and the core product team to address the challenge of customer-specific customizations and environments that have historically led to compatibility issues. The proposed strategy includes releasing updates in waves to ensure thorough testing and minimize post-release issues. Team members expressed support for this approach, emphasizing clear communication with customers and logistical complexities.\n",
      "\n",
      "Key discussion points included:\n",
      "- Integrated testing strategy between solution center and core team\n",
      "- Wave-based release approach for smoother deployments\n",
      "- Resource allocation for QA processes\n",
      "- Communication and testing protocols for release hardening phase\n",
      "\n",
      "Calls to Action:\n",
      "- Generate and store output for integrations prior to every release to compare.\n",
      "- Schedule another meeting to discuss performance testing and API integrations roadmap.\n",
      "- Return to Peter Loffelmann and try a proof of concept for connector access management.\n",
      "- Improve management of access to customer connectors.\n",
      "- Add API performance testing to the scope of testing.\n",
      "- Plan API performance testing in the roadmap.\n",
      "\n",
      "Specific Call to Action for Zain Master:\n",
      "Zain, your specific action is to generate and store output for integrations prior to every release to facilitate comparison and ensure smooth product deployments.\n",
      "\n",
      "Thank you for your leadership in the meeting. Please reach out if you need any further assistance or clarification.\n",
      "\n",
      "Best regards,\n",
      "ZNP Meeting Assistant\n",
      "\n",
      "*! Warning ! Assignments of tasks and summaries generated by this Bot may be inaccurate. Please confirm with the Meeting Organizer / Team Lead.*\n"
     ]
    }
   ],
   "source": [
    "# Email bot\n",
    "prompt5 = \"\"\"You are an intelligent Email formatting Assistant. You will take in a summary and calls to action from a meeting transcript, as well as a name, with their corresponding specific action and Email address.\n",
    "Your task is to write this person an email. Fill in the To: field with their email, output the summary, followed by all calls to actions. Then the corresponding specific action(s) for the member the Email is written for. An example Email Format is as follows:\n",
    "\n",
    "To: sarah.chen@example.com\n",
    "\n",
    "From: znpmeetingassistant@gmail.com\n",
    "\n",
    "Subject: Project Phoenix - Kickoff Meeting Summary\n",
    "\n",
    "This email summarizes the kickoff meeting for Project Phoenix, held on October 26, 2023.\n",
    "\n",
    "! Warning ! Assignments of tasks and Summaries generated by this Bot may be innacurate. Please be sure to follow up with Meeting Organizer / Team Lead\n",
    "\n",
    "Meeting Summary:\n",
    "\n",
    "The meeting began with an overview of Project Phoenix's objectives: to develop and launch a new customer relationship management (CRM) system within the next six months. We discussed the project's scope, which includes migrating existing customer data, integrating with our current marketing automation platform, and training our sales and support teams on the new system.\n",
    "\n",
    "Key discussion points included:\n",
    "\n",
    "- Data Migration Strategy: We reviewed the proposed approach for migrating customer data from the legacy system to the new CRM.\n",
    "\n",
    "- Integration Requirements: We discussed the necessary integrations with the marketing automation platform, focusing on data synchronization and workflow automation.\n",
    "\n",
    "- Training Plan: The training team outlined the plan for developing and delivering training materials to sales and support staff.\n",
    "\n",
    "- Timeline and Milestones: We established the initial project timeline, identifying key milestones and deadlines. A detailed project schedule will be shared next week.\n",
    "\n",
    "- Budget Allocation: Initial budget was presented.\n",
    "\n",
    "Calls to Action:\n",
    "\n",
    "- The following actions were assigned to ensure the project stays on track:\n",
    "\n",
    "- Sarah Chen: Finalize the data migration plan and submit it for review by November 2nd.\n",
    "\n",
    "- John Smith: Define the API specifications for the marketing automation platform integration by November 5th.\n",
    "\n",
    "- Emily Brown: Develop the initial training modules outline by November 9th.\n",
    "\n",
    "- David Lee: Circulate the detailed project schedule by October 28th.\n",
    "\n",
    "- Michael Davis: Provide a detailed budget breakdown by November 2nd.\n",
    "\n",
    "\n",
    "Specific Call to Action for Sarah Chen:\n",
    "\n",
    "Sarah, your immediate action is to finalize the data migration plan, including the specific steps, resources required, and potential risks. Please submit this plan to project_team@example.com by November 2nd.\n",
    "\n",
    "Thank you for your contributions to the meeting. Please let me know if you have any questions or require further clarification.\n",
    "\n",
    "Best regards,\n",
    "\n",
    "ZNP Meeting Assistant*\n",
    "\n",
    "* ! Warning ! Assignments of tasks and Summaries generated by this Bot may be innacurate. Please be sure to follow up with Meeting Organizer / Team Lead\n",
    "\n",
    "\n",
    "\n",
    "Here is the information:\n",
    "\"\"\"\n",
    "# loops through each entry to generate email for every member\n",
    "def generate_emails(meeting_results, meeting_actions_emails):\n",
    "    emails = []\n",
    "    for _, row in meeting_actions_emails.iterrows():\n",
    "        member_name = row['member']\n",
    "        member_email = row['email']\n",
    "        specific_action = row['action']\n",
    "\n",
    "        # Construct the user prompt with the specific information for the member\n",
    "        user_prompt = f\"\"\"\n",
    "        Here is the meeting summary:\n",
    "        {meeting_results}\n",
    "\n",
    "        Here are the calls to action for all members:\n",
    "        {meeting_actions_emails.to_string(index=False)}\n",
    "\n",
    "        Here is the specific call to action for {member_name}:\n",
    "        {specific_action}\n",
    "        \"\"\"\n",
    "\n",
    "        messages = [\n",
    "            {'role': 'system', 'content': prompt5},\n",
    "            {'role': 'user', 'content': user_prompt}\n",
    "        ]\n",
    "\n",
    "        try:\n",
    "            chain = client.chat.completions.create(\n",
    "                model=OPENAI_MODEL,\n",
    "                messages=messages\n",
    "            )\n",
    "            email_content = chain.choices[0].message.content\n",
    "            emails.append(email_content) \n",
    "            print(f\"Generated email for {member_name} ({member_email})\")\n",
    "        except Exception as e:\n",
    "            print(f\"An error occurred while generating email for {member_name}: {e}\")\n",
    "            emails.append(f\"Error: Could not generate email for {member_name}.\")\n",
    "\n",
    "    return emails\n",
    "\n",
    "\n",
    "# Generate and store emails\n",
    "generated_emails = generate_emails(meeting_results, meeting_actions_emails)\n",
    "\n",
    "# Print the list of generated emails\n",
    "print(\"\\n--- Generated Emails ---\")\n",
    "for email in generated_emails:\n",
    "    print(email)"
   ]
  },
  {
   "cell_type": "code",
   "execution_count": 47,
   "id": "581419df",
   "metadata": {},
   "outputs": [
    {
     "data": {
      "text/plain": [
       "6"
      ]
     },
     "execution_count": 47,
     "metadata": {},
     "output_type": "execute_result"
    }
   ],
   "source": [
    "len(generated_emails)"
   ]
  },
  {
   "cell_type": "code",
   "execution_count": 48,
   "id": "dad126fc",
   "metadata": {},
   "outputs": [
    {
     "name": "stdout",
     "output_type": "stream",
     "text": [
      "To: petr.klen@example.com\n",
      "\n",
      "From: znpmeetingassistant@gmail.com\n",
      "\n",
      "Subject: Summary and Calls to Action from April 29, 2025 Meeting\n",
      "\n",
      "This email summarizes the critical meeting held on April 29, 2025, focusing on enhancing customer confidence in product releases.\n",
      "\n",
      "Meeting Summary:\n",
      "\n",
      "The meeting, led by Zain Master, addressed the challenges posed by customer-specific customizations and environments, aiming to prevent compatibility issues and the repetitive cycle of releases and fixes. The proposed strategy involves fostering collaboration between the solution center and the core product team, releasing updates in waves to ensure thorough testing and protect major customers from disruptions. The importance of communication, resource allocation, and an Agile framework for effective software development was highlighted.\n",
      "\n",
      "Calls to Action:\n",
      "\n",
      "- Generate and store output for integrations prior to every release to compare.\n",
      "- Schedule another meeting to discuss performance testing and API integrations roadmap.\n",
      "- Return to Peter Loffelmann and try a proof of concept for connector access management.\n",
      "- Improve management of access to customer connectors.\n",
      "- Add API performance testing to the scope of testing.\n",
      "- Plan API performance testing in the roadmap.\n",
      "\n",
      "Specific Call to Action for Petr Klen:\n",
      "\n",
      "There were no specific calls to action directed towards you in this meeting. If you have any questions or require further clarification, please reach out.\n",
      "\n",
      "Thank you for your participation in the meeting.\n",
      "\n",
      "Best regards,\n",
      "ZNP Meeting Assistant\n",
      "\n",
      "! Warning ! Assignments of tasks and Summaries generated by this Bot may be inaccurate. Please be sure to follow up with Meeting Organizer / Team Lead\n",
      "\n"
     ]
    }
   ],
   "source": [
    "print(generated_emails[1])"
   ]
  },
  {
   "cell_type": "code",
   "execution_count": null,
   "id": "5f05f2f0",
   "metadata": {},
   "outputs": [
    {
     "data": {
      "text/plain": [
       "['To: lukas.kawulok@example.com',\n",
       " '',\n",
       " 'From: znpmeetingassistant@gmail.com',\n",
       " '',\n",
       " 'Subject: Summary and Action Items from April 29, 2025 Meeting',\n",
       " '',\n",
       " 'Hi Lukas,',\n",
       " '',\n",
       " 'I hope this email finds you well. Below is a summary of the meeting held on April 29, 2025, focusing on enhancing customer confidence in product releases:',\n",
       " '',\n",
       " 'Meeting Summary:',\n",
       " '',\n",
       " 'The meeting, led by Zain Master, highlighted the challenges related to customer-specific customizations and compatibility issues post-release. A strategy was proposed to integrate the solution center and core product team for thorough testing and implementing wave-based release updates to mitigate disruptions for key customers.',\n",
       " '',\n",
       " 'Key Action Items:',\n",
       " '',\n",
       " '- Capture the process of reaching out for resources to formalize it.',\n",
       " '',\n",
       " 'Specific Call to Action for Lukas Kawulok:',\n",
       " '',\n",
       " \"Lukas, while there were no specific actions assigned to you during this meeting, please continue your valuable contributions to the team's initiatives in creating a seamless collaboration between the solution center and the core product team.\",\n",
       " '',\n",
       " 'Thank you for your dedication and support. If you have any questions or need further information, feel free to reach out.',\n",
       " '',\n",
       " 'Best regards,',\n",
       " '',\n",
       " 'ZNP Meeting Assistant',\n",
       " '',\n",
       " '! Warning ! Assignments of tasks and summaries generated by this Bot may be inaccurate. Please cross-check with the Meeting Organizer / Team Lead for validation.']"
      ]
     },
     "execution_count": 56,
     "metadata": {},
     "output_type": "execute_result"
    }
   ],
   "source": [
    "# since the output is carefully curated, we can extract the information needed for email sending\n",
    "# splitting each email into a list\n",
    "email_bones = []\n",
    "for email in generated_emails:\n",
    "    lines = email.splitlines()\n",
    "    email_bones.append(lines)\n",
    "\n",
    "email_bones[0]"
   ]
  },
  {
   "cell_type": "code",
   "execution_count": null,
   "id": "1b3d53d8",
   "metadata": {},
   "outputs": [
    {
     "name": "stdout",
     "output_type": "stream",
     "text": [
      "lukas.kawulok@example.com\n",
      "znpmeetingassistant@gmail.com\n",
      "Summary and Action Items from April 29, 2025 Meeting\n",
      "\n",
      "Hi Lukas,\n",
      "\n",
      "  I hope this email finds you well. Below is a summary of the meeting held on April 29, 2025, focusing on enhancing customer confidence in product releases:\n",
      "\n",
      "  Meeting Summary:\n",
      "\n",
      "  The meeting, led by Zain Master, highlighted the challenges related to customer-specific customizations and compatibility issues post-release. A strategy was proposed to integrate the solution center and core product team for thorough testing and implementing wave-based release updates to mitigate disruptions for key customers.\n",
      "\n",
      "  Key Action Items:\n",
      "\n",
      "  - Capture the process of reaching out for resources to formalize it.\n",
      "\n",
      "  Specific Call to Action for Lukas Kawulok:\n",
      "\n",
      "  Lukas, while there were no specific actions assigned to you during this meeting, please continue your valuable contributions to the teams initiatives in creating a seamless collaboration between the solution center and the core product team.\n",
      "\n",
      "  Thank you for your dedication and support. If you have any questions or need further information, feel free to reach out.\n",
      "\n",
      "  Best regards,\n",
      "\n",
      "  ZNP Meeting Assistant\n",
      "\n",
      "  ! Warning ! Assignments of tasks and summaries generated by this Bot may be inaccurate. Please cross-check with the Meeting Organizer / Team Lead for validation.\n",
      "\n"
     ]
    }
   ],
   "source": [
    "# looping through each email list to extract email sending information\n",
    "# these variables are looped through to send each email\n",
    "to_list = []\n",
    "for email in email_bones:\n",
    "    to_list.append(email[0].replace('To: ', ''))\n",
    "\n",
    "sender_list = []\n",
    "for email in email_bones:\n",
    "    sender_list.append(email[2].replace('From: ', ''))\n",
    "\n",
    "subject_list = []\n",
    "for email in email_bones:\n",
    "    subject_list.append(email[4].replace('Subject: ', ''))\n",
    "\n",
    "message_text_list = []\n",
    "for email in email_bones:\n",
    "    message_text_list.append(str(email[6:]).replace(\"''\", '\\n').replace(\"',\", '\\n').replace(\"\\n,\", '').replace('\\n', '\\n\\n').replace('\",', '\\n\\n').replace('\"', '').replace(\"'\", \"\").replace('[', '\\n').replace(']', '\\n'))\n",
    "\n",
    "\n",
    "'''to = email_bones[0]\n",
    "cc = email_bones[2]\n",
    "sender = email_bones[4]\n",
    "subject = email_bones[6]\n",
    "message_text = str(email_bones[8:]).replace(\"''\", '\\n').replace(\"',\", '\\n').replace(\"\\n,\", '').replace('\\n', '\\n\\n').replace('\",', '\\n\\n').replace('\"', '').replace(\"'\", \"\").replace('[', '\\n').replace(']', '\\n')'''\n",
    "\n",
    "\n",
    "print(to_list[0])\n",
    "print(sender_list[0])\n",
    "print(subject_list[0])\n",
    "print(message_text_list[0])\n"
   ]
  },
  {
   "cell_type": "code",
   "execution_count": 58,
   "id": "8d8099fc",
   "metadata": {},
   "outputs": [],
   "source": [
    "import base64\n",
    "from email.message import EmailMessage"
   ]
  },
  {
   "cell_type": "code",
   "execution_count": 59,
   "id": "0df7ce98",
   "metadata": {},
   "outputs": [],
   "source": [
    "import os.path\n",
    "from google.oauth2.credentials import Credentials\n",
    "from google_auth_oauthlib.flow import InstalledAppFlow\n",
    "from google.auth.transport.requests import Request\n",
    "from googleapiclient.discovery import build"
   ]
  },
  {
   "cell_type": "code",
   "execution_count": 60,
   "id": "63f1ac7d",
   "metadata": {},
   "outputs": [],
   "source": [
    "import smtplib\n",
    "from email.mime.text import MIMEText\n",
    "from email.mime.multipart import MIMEMultipart\n",
    "from email.mime.base import MIMEBase\n",
    "from email import encoders"
   ]
  },
  {
   "cell_type": "code",
   "execution_count": null,
   "id": "b6a02f89",
   "metadata": {},
   "outputs": [],
   "source": [
    "# load gmail password\n",
    "load_dotenv()\n",
    "\n",
    "SENDER_PASSWORD = os.getenv('SENDER_PASSWORD')"
   ]
  },
  {
   "cell_type": "code",
   "execution_count": null,
   "id": "8408765a",
   "metadata": {},
   "outputs": [],
   "source": [
    "# Set SMPT variables\n",
    "sender_email = \"znpmeetingassistant@gmail.com\"\n",
    "sender_password = SENDER_PASSWORD\n",
    "sender_password = sender_password.replace('-', ' ')\n",
    "smtp_server = \"smtp.gmail.com\" \n",
    "smtp_port = 587"
   ]
  },
  {
   "cell_type": "code",
   "execution_count": null,
   "id": "daa9974f",
   "metadata": {},
   "outputs": [],
   "source": [
    "# create and send email functions\n",
    "def create_email(receiver_email, subject, message_text):\n",
    "    message = MIMEMultipart()\n",
    "    message['From'] = sender_email\n",
    "    message['To'] = receiver_email\n",
    "    message['Subject'] = subject\n",
    "    message.attach(MIMEText(message_text, 'plain'))\n",
    "    return message.as_string()\n",
    "\n",
    "\n",
    "\n",
    "def send_email(receiver_email, subject, message_text):\n",
    "    message = create_email(receiver_email, subject, message_text)\n",
    "\n",
    "    try:\n",
    "        with smtplib.SMTP(smtp_server, smtp_port) as server:\n",
    "            server.starttls()\n",
    "            server.login(sender_email, sender_password)\n",
    "            server.sendmail(sender_email, receiver_email, message)\n",
    "        print(f\"Email sent successfully to {receiver_email}\")\n",
    "    except Exception as e:\n",
    "        print(f\"Error sending email: {e}\")\n",
    "\n",
    "# loops through each email info list to create and send emails for every member\n",
    "def send_bulk_email(receiver_list, subject_list, message_list):\n",
    "    for receiver, subject, message in zip(receiver_list, subject_list, message_list):\n",
    "        send_email(receiver, subject, message)\n",
    "\n"
   ]
  },
  {
   "cell_type": "code",
   "execution_count": null,
   "id": "0604b463",
   "metadata": {},
   "outputs": [
    {
     "name": "stdout",
     "output_type": "stream",
     "text": [
      "Email sent successfully to lukas.kawulok@example.com\n",
      "Email sent successfully to petr.klen@example.com\n",
      "Email sent successfully to radim.moravec@example.com\n",
      "Email sent successfully to stephen.pack@example.com\n",
      "Email sent successfully to terry.stone@example.com\n",
      "Email sent successfully to zain.master@example.com\n"
     ]
    }
   ],
   "source": [
    "# testing the function\n",
    "send_bulk_email(to_list, subject_list, message_text_list)"
   ]
  },
  {
   "cell_type": "code",
   "execution_count": null,
   "id": "b561ed4a",
   "metadata": {},
   "outputs": [],
   "source": [
    "# old gmail API access code, works but is more cumbersome to use\n",
    "\n",
    "'''SCOPES = ['https://www.googleapis.com/auth/gmail.send']\n",
    "\n",
    "\n",
    "def create_message(sender, to, subject, message_text):\n",
    "    message = EmailMessage()\n",
    "    message.set_content(message_text)\n",
    "    message['To'] = to\n",
    "    message['From'] = sender\n",
    "    message['Subject'] = subject\n",
    "    return {'raw': base64.urlsafe_b64encode(message.as_bytes()).decode()}\n",
    "\n",
    "\n",
    "def send_message(service, user_id, message):\n",
    "    try:\n",
    "        message = (service.users().messages().send(userId=user_id, body=message)\n",
    "                 .execute())\n",
    "        print('Message Id: %s' % message['id'])\n",
    "        return message\n",
    "    except Exception as error:\n",
    "        print(f'An error occurred: {error}')\n",
    "\n",
    "def email_main(to_list, subject_list, message_text_list,):\n",
    "    creds = None\n",
    "    if os.path.exists('token.json'):\n",
    "        creds = Credentials.from_authorized_user_file('token.json', SCOPES)\n",
    "    if not creds or not creds.valid:\n",
    "        if creds and creds.expired and creds.refresh_token:\n",
    "            creds.refresh(Request())\n",
    "        else:\n",
    "            flow = InstalledAppFlow.from_client_secrets_file(\n",
    "                'credentials.json', SCOPES)\n",
    "            creds = flow.run_local_server(port=60010)\n",
    "        with open('token.json', 'w') as token:\n",
    "            token.write(creds.to_json())\n",
    "    try:\n",
    "        service = build('gmail', 'v1', credentials=creds)\n",
    "        sender = \"znpmeetingassistant@gmail.com\"\n",
    "        for to, subject, message_text in zip(to_list, subject_list, message_text_list):\n",
    "            message = create_message(sender, to, subject, message_text)\n",
    "            send_message(service, \"me\", message)\n",
    "    except Exception as e:\n",
    "        print(f\"Error: {e}\")'''"
   ]
  },
  {
   "cell_type": "code",
   "execution_count": null,
   "id": "8903bec2",
   "metadata": {},
   "outputs": [
    {
     "name": "stdout",
     "output_type": "stream",
     "text": [
      "Please visit this URL to authorize this application: https://accounts.google.com/o/oauth2/auth?response_type=code&client_id=1092722805024-tu2g85irn4q8b7ap26lon70i902l0i73.apps.googleusercontent.com&redirect_uri=http%3A%2F%2Flocalhost%3A60010%2F&scope=https%3A%2F%2Fwww.googleapis.com%2Fauth%2Fgmail.send&state=PUy1uUt9PXO3EtvvVKobIZVGa1VX8C&access_type=offline\n"
     ]
    }
   ],
   "source": [
    "#email_main(to_list, subject_list, message_text_list)"
   ]
  },
  {
   "cell_type": "code",
   "execution_count": null,
   "id": "f66f293f",
   "metadata": {},
   "outputs": [],
   "source": []
  }
 ],
 "metadata": {
  "kernelspec": {
   "display_name": "dev",
   "language": "python",
   "name": "python3"
  },
  "language_info": {
   "codemirror_mode": {
    "name": "ipython",
    "version": 3
   },
   "file_extension": ".py",
   "mimetype": "text/x-python",
   "name": "python",
   "nbconvert_exporter": "python",
   "pygments_lexer": "ipython3",
   "version": "3.12.9"
  }
 },
 "nbformat": 4,
 "nbformat_minor": 5
}
