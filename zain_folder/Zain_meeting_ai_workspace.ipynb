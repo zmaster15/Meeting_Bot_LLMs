{
 "cells": [
  {
   "cell_type": "code",
   "execution_count": 1,
   "id": "c3ac0e62",
   "metadata": {},
   "outputs": [
    {
     "name": "stderr",
     "output_type": "stream",
     "text": [
      "/opt/anaconda3/envs/LLM/lib/python3.12/site-packages/tqdm/auto.py:21: TqdmWarning: IProgress not found. Please update jupyter and ipywidgets. See https://ipywidgets.readthedocs.io/en/stable/user_install.html\n",
      "  from .autonotebook import tqdm as notebook_tqdm\n",
      "2025-05-05 19:01:03.913199: I tensorflow/core/platform/cpu_feature_guard.cc:210] This TensorFlow binary is optimized to use available CPU instructions in performance-critical operations.\n",
      "To enable the following instructions: AVX2 FMA, in other operations, rebuild TensorFlow with the appropriate compiler flags.\n"
     ]
    }
   ],
   "source": [
    "from langchain_openai import ChatOpenAI\n",
    "from dotenv import load_dotenv\n",
    "import os\n",
    "from langchain.agents import initialize_agent, load_tools\n",
    "from langchain.chains.llm import LLMChain\n",
    "from langchain_core.prompts import ChatPromptTemplate\n",
    "from langchain.docstore.document import Document\n",
    "from langchain.chains.summarize import load_summarize_chain\n",
    "from langchain_core.prompts import PromptTemplate\n",
    "import pandas as pd\n",
    "from datasets import load_dataset\n",
    "from openai import OpenAI\n",
    "from rouge import Rouge\n",
    "from rouge_score import rouge_scorer\n",
    "from pprint import pprint\n",
    "import nltk\n",
    "import evaluate\n",
    "import tiktoken\n",
    "from transformers import pipeline\n",
    "import matplotlib.pyplot as plt\n"
   ]
  },
  {
   "cell_type": "code",
   "execution_count": 5,
   "id": "f834fa3c",
   "metadata": {},
   "outputs": [],
   "source": [
    "# Load environment variables.\n",
    "load_dotenv()\n",
    "\n",
    "# Set the model name for our LLMs that can be easily swapped for a different model.\n",
    "OPENAI_MODEL = \"gpt-4-turbo\"\n",
    "\n",
    "# Store the API key in a variable.\n",
    "OPENAI_API_KEY = os.getenv(\"OPENAI_API_KEY\")"
   ]
  },
  {
   "cell_type": "code",
   "execution_count": 2,
   "id": "e41e3b17",
   "metadata": {},
   "outputs": [],
   "source": [
    "# Transforming the transcript from my meeting into so it can be read by OpenAI via the API\n",
    "transcript = pd.read_json('../Resources/vertopal.com_Discuss Collaborative Testing prior to release.json', orient='index')\n",
    "# Remove the hash '#' below to review the transcript in JSON\n",
    "#transcript"
   ]
  },
  {
   "cell_type": "code",
   "execution_count": 3,
   "id": "3a78c36b",
   "metadata": {},
   "outputs": [
    {
     "name": "stdout",
     "output_type": "stream",
     "text": [
      "56998\n"
     ]
    }
   ],
   "source": [
    "# Getting the number of tokens that we need to understand if we're going beyond the available pull parameters of OpenAI\n",
    "transcribed_mtg = str(transcript[0])\n",
    "print(len(transcribed_mtg))"
   ]
  },
  {
   "cell_type": "markdown",
   "id": "d93361e1",
   "metadata": {},
   "source": [
    "**Note:** Code below was collaborated on with Nik Psyllas to split the token len to get OpenAI to be able to read it. \n",
    "All bot prompts were engineered based on my condensed learnings from Google's AI Prompt Engineering Course (https://www.youtube.com/watch?v=p09yRj47kNM&t=184s&ab_channel=TinaHuang)"
   ]
  },
  {
   "cell_type": "code",
   "execution_count": 4,
   "id": "1c945fa7",
   "metadata": {},
   "outputs": [],
   "source": [
    "# Splitting transcription if max token limit is possibly exceeded\n",
    "max_len = 37000\n",
    "\n",
    "if len(transcribed_mtg) >= max_len:\n",
    "\n",
    "    transcribed_mtg_trimmed_list = [transcribed_mtg[i:i + max_len] for i in range(0, len(transcribed_mtg), max_len)]\n",
    "\n"
   ]
  },
  {
   "cell_type": "markdown",
   "id": "da3bcce2",
   "metadata": {},
   "source": [
    "# Chat Bot that will Query the uploaded transcripts and answer questions\n"
   ]
  },
  {
   "cell_type": "code",
   "execution_count": 56,
   "id": "53bcf33f",
   "metadata": {},
   "outputs": [
    {
     "name": "stderr",
     "output_type": "stream",
     "text": [
      "Device set to use mps:0\n"
     ]
    }
   ],
   "source": [
    "# Initializer the pipeline to generate questions and answers using the distilbert-base-case-distilled-squad model we learned in class\n",
    "question_answerer = pipeline('question-answering', model='distilbert-base-cased-distilled-squad')\n",
    "\n",
    "# Source is our transcript\n",
    "text = transcribed_mtg\n",
    "\n",
    "# Generating a list of questions that we can create  an input for, just using known question\n",
    "questions = [\"How many waves did we agree to releasing software in?\",\n",
    "             \"When should a release candidate be made available to solution center for testing?\",\n",
    "             \"Where should the PM open the ticket for securing resources prior to the release?\"]"
   ]
  },
  {
   "cell_type": "code",
   "execution_count": 39,
   "id": "c56a7ee8",
   "metadata": {},
   "outputs": [
    {
     "data": {
      "text/plain": [
       "{'score': 0.616129457950592, 'start': 13517, 'end': 13524, 'answer': 'a month'}"
      ]
     },
     "execution_count": 39,
     "metadata": {},
     "output_type": "execute_result"
    }
   ],
   "source": [
    "# Checking the questions outputs\n",
    "question = \"on what date should a release candidate be made available for testing prior to the 1st wave of release?\"\n",
    "\n",
    "# Pass the question and test the answer\n",
    "result = question_answerer(question=question, context=text)\n",
    "result"
   ]
  },
  {
   "cell_type": "code",
   "execution_count": 54,
   "id": "7e997c34",
   "metadata": {},
   "outputs": [],
   "source": [
    "# Import Pandas \n",
    "import pandas as pd\n",
    "\n",
    "# Create a function to generate the answers based on an input text.\n",
    "def question_answer(questions, text):\n",
    "    # Create a list to hold the data that will be added to the DataFrame.\n",
    "    data = []\n",
    "    # Use a for loop to iterate through the questions.\n",
    "    for question in questions:\n",
    "        # Pass the question and text to the initialized question_answerer. \n",
    "        result = question_answerer(question=question, context=text)\n",
    "        # Retrieve the question, answer, the score, the starting \n",
    "        # and ending of where the answer is located in the text.\n",
    "        data.append([question, result['answer'], result['score'], result['start'], result['end']])\n",
    "    # Create a DataFrame from the data with appropriate columns. \n",
    "    df = pd.DataFrame(data, columns=[\"Question\", \"Answer\", \"Score\", \"Starting Position\", \"Ending Position\"])\n",
    "    # Return the DataFrame\n",
    "    return df"
   ]
  },
  {
   "cell_type": "code",
   "execution_count": 57,
   "id": "697cdae4",
   "metadata": {},
   "outputs": [
    {
     "data": {
      "text/html": [
       "<div>\n",
       "<style scoped>\n",
       "    .dataframe tbody tr th:only-of-type {\n",
       "        vertical-align: middle;\n",
       "    }\n",
       "\n",
       "    .dataframe tbody tr th {\n",
       "        vertical-align: top;\n",
       "    }\n",
       "\n",
       "    .dataframe thead th {\n",
       "        text-align: right;\n",
       "    }\n",
       "</style>\n",
       "<table border=\"1\" class=\"dataframe\">\n",
       "  <thead>\n",
       "    <tr style=\"text-align: right;\">\n",
       "      <th></th>\n",
       "      <th>Question</th>\n",
       "      <th>Answer</th>\n",
       "      <th>Score</th>\n",
       "      <th>Starting Position</th>\n",
       "      <th>Ending Position</th>\n",
       "    </tr>\n",
       "  </thead>\n",
       "  <tbody>\n",
       "    <tr>\n",
       "      <th>0</th>\n",
       "      <td>How many waves did we agree to releasing softw...</td>\n",
       "      <td>three</td>\n",
       "      <td>0.632711</td>\n",
       "      <td>6068</td>\n",
       "      <td>6073</td>\n",
       "    </tr>\n",
       "    <tr>\n",
       "      <th>1</th>\n",
       "      <td>When should a release candidate be made availa...</td>\n",
       "      <td>two months prior to a release date</td>\n",
       "      <td>0.712697</td>\n",
       "      <td>30663</td>\n",
       "      <td>30697</td>\n",
       "    </tr>\n",
       "    <tr>\n",
       "      <th>2</th>\n",
       "      <td>Where should the PM open the ticket for securi...</td>\n",
       "      <td>VPP</td>\n",
       "      <td>0.930608</td>\n",
       "      <td>24583</td>\n",
       "      <td>24586</td>\n",
       "    </tr>\n",
       "  </tbody>\n",
       "</table>\n",
       "</div>"
      ],
      "text/plain": [
       "                                            Question  \\\n",
       "0  How many waves did we agree to releasing softw...   \n",
       "1  When should a release candidate be made availa...   \n",
       "2  Where should the PM open the ticket for securi...   \n",
       "\n",
       "                               Answer     Score  Starting Position  \\\n",
       "0                               three  0.632711               6068   \n",
       "1  two months prior to a release date  0.712697              30663   \n",
       "2                                 VPP  0.930608              24583   \n",
       "\n",
       "   Ending Position  \n",
       "0             6073  \n",
       "1            30697  \n",
       "2            24586  "
      ]
     },
     "execution_count": 57,
     "metadata": {},
     "output_type": "execute_result"
    }
   ],
   "source": [
    "# Call the question_answer function with the questions and text.\n",
    "question_answer(questions, text)"
   ]
  },
  {
   "cell_type": "markdown",
   "id": "eab6c59f",
   "metadata": {},
   "source": [
    "# Summarizer Bot that will summarize uploaded transcripts with key takeaway and learning"
   ]
  },
  {
   "cell_type": "code",
   "execution_count": 10,
   "id": "53195dfd",
   "metadata": {},
   "outputs": [
    {
     "name": "stderr",
     "output_type": "stream",
     "text": [
      "/var/folders/n0/pbfvzgnj0db4mnvdjytkzzc00000gn/T/ipykernel_40232/190809785.py:37: LangChainDeprecationWarning: The method `Chain.run` was deprecated in langchain 0.1.0 and will be removed in 1.0. Use :meth:`~invoke` instead.\n",
      "  summary = chain.run(input_documents=batch)\n"
     ]
    },
    {
     "name": "stdout",
     "output_type": "stream",
     "text": [
      "**1. Meeting Summary:**\n",
      "\n",
      "The meeting convened to address the challenges and strategize improvements in the release process for customer-specific product implementations. Zain Master initiated the discussion by highlighting the recurring issues with product releases that have led to customer dissatisfaction and internal stress due to compatibility issues between the core product functionalities and customer-specific implementations. The goal was to enhance internal confidence and external acceptance of product releases.\n",
      "\n",
      "Zain proposed a cross-collaborative approach between the solution center and the core product teams to enhance testing protocols. He shared insights from his discussions with Peter Lafferman, focusing on identifying gaps in the current testing process and proposing action items to bridge these gaps.\n",
      "\n",
      "Lukas Kawulok raised concerns about the previous release failures and questioned the continuation of phased releases and increased testing participation from the solution center. Zain and Stephen Pack supported the idea of phased releases (waves) to manage risks and protect major revenue-generating customers by identifying issues in smaller customer sets before wide-scale deployment.\n",
      "\n",
      "Terry Stone and others discussed the logistical challenges of managing multiple waves, including communication strategies, hosting requirements, and the need for synchronized updates across production and lower environments. The conversation also touched on the necessity of formalizing the resource booking process for testing, as highlighted by Petr Klen, who emphasized the importance of early bookings to secure necessary resources.\n",
      "\n",
      "The meeting concluded with an agreement to document and formalize the process for resource booking and testing coordination, ensuring better preparedness and structured communication for future releases.\n",
      "\n",
      "**2. Key Learnings:**\n",
      "\n",
      "- Cross-collaboration between the solution center and core product teams is crucial for effective testing and release management.\n",
      "- Phased releases (waves) are beneficial for risk management but require clear communication and logistical planning.\n",
      "- Early and formalized resource booking is essential to ensure availability for thorough testing of releases.\n",
      "- Synchronized updates across all environments (production, staging, dev, etc.) during a release can prevent inconsistencies and potential issues.\n",
      "- A structured and documented process for initiating and managing testing resources, including creating JIRA tickets and coordinating with project managers, is necessary to streamline operations and avoid last-minute challenges.\n",
      "- Regular updates and communication during the testing phase are vital to address issues promptly and keep all stakeholders informed.\n"
     ]
    }
   ],
   "source": [
    "# Create a Summarizer\n",
    "llm = ChatOpenAI(openai_api_key=OPENAI_API_KEY, model_name=OPENAI_MODEL, temperature=0)\n",
    "\n",
    "# Prompt for the Summarizer\n",
    "sum_prompt_template = \"\"\"You are a intelligent and detailed-oriented meeting assistant. Your task is to provide a comprehensive summary from the provided transcription.\n",
    "\n",
    "Your output should be structured as follows:\n",
    "\n",
    "**1. Meeting Summary:**\n",
    "\n",
    "* Provide a detailed narrative summary of the meeting, capturing the key topics discussed, decisions made, and any important points raised. Aim for a length of approximately 200-300 words.\n",
    "\n",
    "**2. Key Learnings:**\n",
    "\n",
    "* Extract and present the most important takeaways and insights from the meeting in a bullet-point list. Each bullet point should be concise and clearly articulate a key learning.\n",
    "\n",
    "Transcript:\n",
    "{text}\n",
    "\"\"\"\n",
    "# Using a prompt template to define the prompt\n",
    "sum_prompt = PromptTemplate(template=sum_prompt_template, input_variables=[\"text\"])\n",
    "\n",
    "# Instantiate the summarizer chain using simpler chain_type = 'stuff'\n",
    "chain = load_summarize_chain(llm, chain_type=\"stuff\", prompt=sum_prompt, document_variable_name='text')\n",
    "\n",
    "# Create document objects from the filtered transcripts\n",
    "docs = [Document(page_content=doc) for doc in transcribed_mtg_trimmed_list]\n",
    "\n",
    "# Batching the docs\n",
    "def batch_documents(docs, batch_size=1):\n",
    "    for i in range(0, len(docs), batch_size):\n",
    "        yield docs[i:i + batch_size]\n",
    "\n",
    "batch_summaries = []\n",
    "for batch in batch_documents(docs):\n",
    "    combined_text = '\\n\\n'.join([doc.page_content for doc in batch])\n",
    "    summary = chain.run(input_documents=batch)\n",
    "    batch_summaries.append(summary)\n",
    "\n",
    "# summarize all summaries\n",
    "final_input_docs = [Document(page_content=summary) for summary in batch_summaries]\n",
    "final_summary = chain.run(input_documents=final_input_docs)\n",
    "\n",
    "print(final_summary)\n"
   ]
  },
  {
   "cell_type": "markdown",
   "id": "d476054c",
   "metadata": {},
   "source": [
    "## Summarizer Evaluation\n",
    "Two methods we'll be using are ROUGE & BLEU.\n",
    "Using Rouge (Recall oriented understudy for Gisting Evaluations) to measure how good the summarization quality.\n",
    "Rouge is calculated using different n-grams (a text analysis technique used to identify patterns and relationships in text data - frequency and distribution of words within sentence structures); 'Rouge-L' measures the similarity between the word sequence of the generated abstract and the reference abstract using the longest sequence of words in common (string matching approach); 'Rouge-Lsum is a variation of Rouge-L that divides the generated summary and reference summary inot sentence using tand measures the similarity between them. Basically, in short all of these metrics measure the overlap between the word strings of the generated summary and the reference summary. "
   ]
  },
  {
   "cell_type": "code",
   "execution_count": 11,
   "id": "f1e0d250",
   "metadata": {},
   "outputs": [],
   "source": [
    "# Generated summaries: Human (me), OpenAI, and Anthropic models below. \n",
    "# (Could put this away as a utils but wanted the evaluator to see it for reference)\n",
    "\n",
    "# Meeting was summarized by me, to server as a human comparision\n",
    "reference_Human= \"\"\"Core Product Team (Engineering and Product Management) met with members from the Solution Center, responsible for developing and managing customizations \n",
    "on customer's CPQ implementations to improve confidence in GA releases and customer adoption of the release. The focus of this meeting was to outline collaboration between \n",
    "Core Product and Solution Center to test the release candidate code prior to making it generally available for release. A process was defined on how Core Product teams can \n",
    "book and secure resources well in advance of the release from Solution Center to ensure testing of the code in customer environments. Core Product also agreed to demo'ing features in \n",
    "the release with members of the Solution Center to keep them in the loop. Product has also requested Solution Center engineers to save the output of outbound APIs before they hit customer intergrations/\n",
    "applications to help with troubleshooting escalated issues. Multiple other topic discussions yet to be discussed (API performance testing, customer application security access, and test automation)\n",
    "were to be discussed in a follow-up meeting to be scheduled by product management.\n",
    "Key Topic Takeaways:\n",
    "Wave Releases:\n",
    "- Team is going to keep with the Wave Release Schedule for August\n",
    "- Assistance needed from DevOps to ensure that ALL lower environments are being migrated in addition to Production for the customer Test/Dev/Stage\n",
    "- Need to have 3 App Gateways, one per wave to make DevOps easier\n",
    "- Lukas/ Terry to follow up with Chintan\n",
    "\n",
    "Solution Center Participation/ Testing:\n",
    "- CPQ PM to open JIRA ticket in PMOR Project 2 months prior to release to secure and schedule SC resources for testing\n",
    "- Ticket should include scope of work completed within upcoming release\n",
    "- Petr K to provide a summary of process/ details for the ticket\n",
    "\n",
    "Once ticket is created, Petr K will:\n",
    "- Identify list of customers for testing most impacted by scope of work\n",
    "- SC Team members will be selected based on customers implementation complexity and understanding\n",
    "\n",
    "Escalation path for SC is still going to be through Support to isolate Eng from configuration / data / customization issues\n",
    "- Program Management to schedule weekly touchpoints for SC, Eng, Prod, Support to meet\n",
    "- Internal page in confluence will be created to track SC testing progress on customers identified by Petr K\n",
    "- Eng to provide updates on testing and any regressions encountered / updates to SC requests post Support triage\n",
    "\n",
    "Communications:\n",
    "This is being worked on a different channel with Stephen Pack and Lauren to ensure comms are scheduled appropriately, there is an owner, and lastly internal and external customer clearly know the schedule of release\n",
    "\n",
    "Task for Next Meeting:\n",
    "- Core Team API Testing & Performance Baseline Compare\n",
    "- Solution Center Team to save outputs prior to customer integration points for release-to-release compare (Assist with root cause – core, customization, customer end)\n",
    "- Core Team to incorporate SC Typescript Automated tests within our Regression Testing\n",
    "- Core / Support Team access to customer side integrations (Salesforce, SAP, etc)\n",
    "- Graylog monitoring\"\"\"\n",
    "\n",
    "\n",
    "# Meeting was summarized by Anthropic/ Claude to compare LLMs to LLMs\n",
    "reference_anthropic =\"\"\" Meeting Purpose: The meeting on April 29, 2025, focused on improving confidence in product releases by addressing issues with customer-specific implementations. The discussion centered on preventing the cycle of problems that occur when releases are incompatible with customer implementations, which results in multiple fixes and customer dissatisfaction.\n",
    "Key Discussion Points\n",
    "1. Release Wave Approach\n",
    "\n",
    "The team discussed continuing with a wave-based release approach, where releases go to different customer segments at different times\n",
    "Benefits: Protects high-value customers (20 percent of customers generating 80 percent of revenue) from initial issues\n",
    "Challenges: Complex communication, infrastructure requirements, and coordination issues\n",
    "Current plan: Implement for major releases (August, December), but not for patches\n",
    "\n",
    "2. Testing Resource Allocation\n",
    "\n",
    "Solution Center QA resources must be booked 1.5+ months in advance for release testing\n",
    "Process needs formalization: CPQ team will create tickets in JIRA (PMOR project) to request resources\n",
    "Peter will document the detailed process for resource booking\n",
    "QA testing should focus on both general regression testing and tests for specific new features\n",
    "Team needs to select a set of complex customer implementations for consistent testing\n",
    "\n",
    "3. Communication and Coordination\n",
    "\n",
    "Need for better coordination between Product and Solution Center teams\n",
    "A chat channel (smaller than the previous \"war room\") for distinguishing core vs. customization issues\n",
    "Discussed involving Support in the pre-release evaluation to protect engineering resources\n",
    "\n",
    "4. Demo and Information Sharing\n",
    "\n",
    "Team agreed that Sprint-level demos would be excessive\n",
    "Plan to leverage existing Pulse 2 demo (in June) and potentially add a demo to the Release to Ops process\n",
    "Need to ensure demo information reaches Solution Architects and Center teams\n",
    "\n",
    "5. Integration Testing\n",
    "\n",
    "Discussion about generating and storing integration outputs to compare before/after releases\n",
    "Challenges with connector access after project completion (often disappear)\n",
    "Need for improved management of connector access with standardized Vendavo accounts\n",
    "CPQ team needs to add API performance testing to their test scope\n",
    "\n",
    "Action Items\n",
    "\n",
    "Peter will document the process for booking QA resources via JIRA\n",
    "Zain/Stephen to work on communication plans for release waves\n",
    "Cloud OPS and engineering to investigate infrastructure requirements for wave releases\n",
    "Consider adding a demo to Release to Ops meeting\n",
    "Plan API performance testing in the roadmap\n",
    "Follow up with Peter Loffelmann regarding proof of concept for integration output comparison\n",
    "\n",
    "The meeting concluded with agreement to schedule a follow-up to cover remaining topics. \"\"\""
   ]
  },
  {
   "cell_type": "code",
   "execution_count": 28,
   "id": "d02e537f",
   "metadata": {},
   "outputs": [
    {
     "name": "stdout",
     "output_type": "stream",
     "text": [
      "Generated(OpenAI) vs. Written (Human): {'rouge1_f1': 0.4480746791131855, 'rouge2_f1': 0.08888888888888888, 'rougeL_f1': 0.1703617269544924}\n",
      "Generated(OpenAI) vs. Generated (Anthropic): {'rouge1_f1': 0.485006518904824, 'rouge2_f1': 0.10718954248366014, 'rougeL_f1': 0.19295958279009126}\n"
     ]
    }
   ],
   "source": [
    "# ROUGE: \n",
    "# Lets evaluate the summarize using ROUGE (Recall-oriented understudy for Gisting Evaluations), which compares the output from the LLM against Human written summaries \n",
    "# ROUGE scores (ROUGE-1,ROUGE-2, ROUGE-L) provide a quantitative measure of the summary's quality.\n",
    "# ROUGE emphasizes recall (how much of the reference text is captured in the generated text), making it better for summarization \n",
    "# where capturing all key points is more important than exact wording\n",
    "\n",
    "def evaluate_summary_rouge(generated_summary, reference_summary):\n",
    "    scorer = rouge_scorer.RougeScorer(['rouge1','rouge2','rougeL'], use_stemmer=True)\n",
    "    scores= scorer.score(generated_summary, reference_summary)\n",
    "    return {'rouge1_f1': scores['rouge1'].fmeasure,\n",
    "            'rouge2_f1': scores['rouge2'].fmeasure,\n",
    "            'rougeL_f1': scores['rougeL'].fmeasure,\n",
    "    }\n",
    "            \n",
    "\n",
    "scores_1 = evaluate_summary_rouge(final_summary, reference_Human)\n",
    "scores_2 = evaluate_summary_rouge(final_summary, reference_anthropic)\n",
    "\n",
    "print(f'Generated(OpenAI) vs. Written (Human): {scores_1}')\n",
    "print(f'Generated(OpenAI) vs. Generated (Anthropic): {scores_2}')"
   ]
  },
  {
   "cell_type": "code",
   "execution_count": 21,
   "id": "6ec21e95",
   "metadata": {},
   "outputs": [
    {
     "name": "stdout",
     "output_type": "stream",
     "text": [
      "Generated(OpenAI) vs. Written (Human) BLEU Score = 0.7024872780392023\n",
      "Generated(OpenAI) vs. Generated (Anthropic) BLEU Score = 0.8073800226630741\n"
     ]
    }
   ],
   "source": [
    "# BLEU:\n",
    "# Lets try to use another evaluation method called Bleu to evaluate\n",
    "# BLEU primarily measures precision (how much the generated text overlaps with a reference text), making it more suitable for \n",
    "# machine translation tasks where fluency and fidelity to the reference are crucial\n",
    "\n",
    "BLEUscore_SumActionvsHuman = nltk.translate.bleu_score.sentence_bleu([reference_Human], final_summary, weights = (0.5, 0.5))\n",
    "print(f'Generated(OpenAI) vs. Written (Human) BLEU Score = {BLEUscore_SumActionvsHuman}')\n",
    "\n",
    "BLEUscore_SumActionvsAnthropic = nltk.translate.bleu_score.sentence_bleu([reference_anthropic], final_summary, weights = (0.5, 0.5))\n",
    "print(f'Generated(OpenAI) vs. Generated (Anthropic) BLEU Score = {BLEUscore_SumActionvsAnthropic}')"
   ]
  },
  {
   "cell_type": "markdown",
   "id": "d4c125d5",
   "metadata": {},
   "source": [
    "**Analysis**\n",
    "Overall Comparison: The scores indicate that the \"Generated (OpenAI)\" summary has a higher degree of similarity with the \"Generated (Anthropic)\" summary than with the \"Written (Human)\" summary, across both ROUGE and BLEU metrics.\n",
    "\n",
    "ROUGE-1: The ROUGE-1 scores show a moderate amount of single-word overlap. The OpenAI summary shares more words with the Anthropic summary (0.485) than with the Human summary (0.448).\n",
    "\n",
    "ROUGE-2: The ROUGE-2 scores are quite low, indicating that the summaries share relatively few word pairs. Again, OpenAI has a slightly higher bigram overlap with Anthropic (0.107) compared to Human (0.089). Low ROUGE-2 scores are common, especially for abstractive summarization, where the generated summaries may use different wording than the references.\n",
    "\n",
    "ROUGE-L: The ROUGE-L scores, which consider sentence structure, are between ROUGE-1 and ROUGE-2, showing some similarity in the overall sequence of words. OpenAI has a higher ROUGE-L score when compared to Anthropic (0.193) than when compared to Human (0.170).\n",
    "\n",
    "BLEU: The BLEU scores also support the trend seen in the ROUGE scores.  The OpenAI summary has a higher BLEU score when compared to the Anthropic summary (0.807) than when compared to the Human summary (0.702).  BLEU emphasizes n-gram precision, and these scores suggest that OpenAI's summary has a higher precision of word sequences when compared to Anthropic.\n",
    "\n",
    "*What the Scores Suggest:*\n",
    "- The OpenAI and Anthropic summaries are more similar to each other in terms of word choice and sentence structure than either is to the human-written summary. This could imply that both AI models exhibit similar summarization tendencies or biases.\n",
    "- The relatively low ROUGE-2 scores suggest that the summaries, while capturing some of the same information (as indicated by ROUGE-1 and ROUGE-L), use different phrasing and sentence structures.\n",
    "- The BLEU scores indicate that OpenAI's summary has a higher precision of n-grams when compared to Anthropic, further highlighting the similarity between the two AI-generated summaries.\n",
    "\n",
    "\n",
    "**NOTE:** \n",
    "With Rouge specifically, either I suck at writing meeting notes or the model sucks at evaluation. For when I read the generate summary  of the meeting, I am fairly certain that its capturing all of the main points. "
   ]
  },
  {
   "cell_type": "code",
   "execution_count": 58,
   "id": "2cf6859b",
   "metadata": {},
   "outputs": [
    {
     "name": "stdout",
     "output_type": "stream",
     "text": [
      "Token count for the FULL transcript 14378\n",
      "Token count for Human Reference Summary: 598 & Compression ratio is: 24.043478260869566\n",
      "Token count for SumAction Generated Summary: 449 & Compression ratio is: 32.02227171492205 \n",
      "Token count for Anthropic Generated Summary: 486 & Compression ratio is: 29.584362139917694\n",
      "[14378, 449, 598, 486]\n"
     ]
    }
   ],
   "source": [
    "# TOKEN COMPARISION & COMPRESSION: \n",
    "# Using Token counts as a way to measure the summarizers effectiveness\n",
    "\n",
    "encoding_name = \"cl100k_base\"\n",
    "encoding = tiktoken.get_encoding(encoding_name)\n",
    "\n",
    "# Count tokens\n",
    "token_count_Meeting = len(encoding.encode(transcribed_mtg))\n",
    "token_count_final_summary = len(encoding.encode(final_summary))\n",
    "token_count_human_summary = len(encoding.encode(reference_Human))\n",
    "token_count_anthropic_summary = len(encoding.encode(reference_anthropic))\n",
    "\n",
    "\n",
    "\n",
    "# Printing the specific Token Counts and Compression in comparision to original for each type of summary\n",
    "print(f'Token count for the FULL transcript {token_count_Meeting}')\n",
    "print(f'Token count for Human Reference Summary: {token_count_human_summary} & Compression ratio is: {token_count_Meeting / token_count_human_summary}')\n",
    "print(f'Token count for SumAction Generated Summary: {token_count_final_summary} & Compression ratio is: {token_count_Meeting / token_count_final_summary} ')\n",
    "print(f'Token count for Anthropic Generated Summary: {token_count_anthropic_summary} & Compression ratio is: {token_count_Meeting / token_count_final_summary}')\n",
    "print(tokens)"
   ]
  },
  {
   "cell_type": "code",
   "execution_count": 59,
   "id": "4ad40b5c",
   "metadata": {},
   "outputs": [],
   "source": [
    "#Plot tokens and compressions\n",
    "tokens = [token_count_Meeting, token_count_final_summary, token_count_human_summary, token_count_anthropic_summary]\n",
    "compressions = [token_count_Meeting / token_count_human_summary,token_count_Meeting / token_count_final_summary, token_count_Meeting / token_count_final_summary ]\n"
   ]
  },
  {
   "cell_type": "code",
   "execution_count": 69,
   "id": "d38e2c89",
   "metadata": {},
   "outputs": [
    {
     "data": {
      "image/png": "[encoded data removed]",
      "text/plain": [
       "<Figure size 1000x600 with 1 Axes>"
      ]
     },
     "metadata": {},
     "output_type": "display_data"
    },
    {
     "data": {
      "image/png": "[encoded data removed]",
      "text/plain": [
       "<Figure size 1000x600 with 1 Axes>"
      ]
     },
     "metadata": {},
     "output_type": "display_data"
    }
   ],
   "source": [
    "# Plotting the tokens\n",
    "data = {\n",
    "    'Category': ['Meeting', 'Final Summary', 'Human Summary', 'Anthropic Summary'],\n",
    "    'Token Count': [56998, 391, 327, 384],\n",
    "    'Compression Ratio': [1, 145.78, 174.3, 148.43]\n",
    "}\n",
    "\n",
    "# Create a DataFrame\n",
    "df = pd.DataFrame(data)\n",
    "\n",
    "# Create the first bar graph: Token Counts using pandas and matplotlib\n",
    "plt.figure(figsize=(10, 6))\n",
    "plt.bar(df['Category'], df['Token Count'], color='skyblue')\n",
    "plt.xlabel('Category')\n",
    "plt.ylabel('Token Count')\n",
    "plt.title('Token Counts by Category')\n",
    "plt.xticks(rotation=15, ha='right')\n",
    "plt.tight_layout()\n",
    "plt.show()\n",
    "\n",
    "# Create the second bar graph: Compression Ratios using pandas and matplotlib\n",
    "plt.figure(figsize=(10, 6))\n",
    "plt.bar(df['Category'], df['Compression Ratio'], color='lightgreen')\n",
    "plt.xlabel('Category')\n",
    "plt.ylabel('Compression Ratio (Meeting / Category)')\n",
    "plt.title('Compression Ratios by Category')\n",
    "plt.xticks(rotation=15, ha='right')\n",
    "plt.tight_layout()\n",
    "plt.show()"
   ]
  },
  {
   "cell_type": "markdown",
   "id": "e2c053c1",
   "metadata": {},
   "source": [
    "## Action Items Bot that will sift through the provided transcript and extract key action items for organizer to review"
   ]
  },
  {
   "cell_type": "code",
   "execution_count": 47,
   "id": "093dc255",
   "metadata": {},
   "outputs": [
    {
     "name": "stdout",
     "output_type": "stream",
     "text": [
      "-Propose and come up with ways on how to avoid repetitive release issues.\n",
      "-Come up with new ideas to improve internal confidence and external acceptance of the release.\n",
      "-Identify one individual from the solution center organization to intake information and share it within the organization.\n",
      "-Establish a regular and systematic way of booking resources well in advance for testing.\n",
      "-Formalize the process of reaching out and communicating the need for resources.\n",
      "-Generate and store output for integrations prior to every release to compare.\n",
      "-Consider adding API performance testing as part of the scope of the test.\n"
     ]
    }
   ],
   "source": [
    "# Prompt the bot to identify action items from the meeting transcript and try to\n",
    "prompt2 = \"\"\"You are an intelligent assistant tasked with extracting all unique calls to action from the following text. Return each call to action seperately with a newline character. For example:\n",
    "\n",
    "-Call to Action 1\n",
    "-Call to Action 2\n",
    "-Call to Action 3\n",
    "...\n",
    "\n",
    "Here is the text:\n",
    "\"\"\"\n",
    "client = OpenAI()\n",
    "\n",
    "# Instantiate chain\n",
    "chain3 = client.chat.completions.create(model=OPENAI_MODEL, messages=[{'role': 'system', 'content': prompt2},\n",
    "                                                                      {'role': 'user', 'content': transcribed_mtg}]\n",
    "                                                                      )\n",
    "\n",
    "calls = chain3.choices[0].message.content\n",
    "print(calls)"
   ]
  },
  {
   "cell_type": "code",
   "execution_count": 44,
   "id": "692b2408",
   "metadata": {},
   "outputs": [
    {
     "data": {
      "text/html": [
       "<div>\n",
       "<style scoped>\n",
       "    .dataframe tbody tr th:only-of-type {\n",
       "        vertical-align: middle;\n",
       "    }\n",
       "\n",
       "    .dataframe tbody tr th {\n",
       "        vertical-align: top;\n",
       "    }\n",
       "\n",
       "    .dataframe thead th {\n",
       "        text-align: right;\n",
       "    }\n",
       "</style>\n",
       "<table border=\"1\" class=\"dataframe\">\n",
       "  <thead>\n",
       "    <tr style=\"text-align: right;\">\n",
       "      <th></th>\n",
       "      <th>Common Tasks Types</th>\n",
       "      <th>Average Task duration in minutes</th>\n",
       "      <th>Tasks weights</th>\n",
       "    </tr>\n",
       "  </thead>\n",
       "  <tbody>\n",
       "    <tr>\n",
       "      <th>0</th>\n",
       "      <td>Send Email</td>\n",
       "      <td>10</td>\n",
       "      <td>0.25</td>\n",
       "    </tr>\n",
       "    <tr>\n",
       "      <th>1</th>\n",
       "      <td>Create Power point on known topic</td>\n",
       "      <td>120</td>\n",
       "      <td>2.00</td>\n",
       "    </tr>\n",
       "    <tr>\n",
       "      <th>2</th>\n",
       "      <td>Create Power point on new unfamiliar topic</td>\n",
       "      <td>240</td>\n",
       "      <td>3.00</td>\n",
       "    </tr>\n",
       "    <tr>\n",
       "      <th>3</th>\n",
       "      <td>Schedule Meeting</td>\n",
       "      <td>10</td>\n",
       "      <td>0.25</td>\n",
       "    </tr>\n",
       "    <tr>\n",
       "      <th>4</th>\n",
       "      <td>Work on small project</td>\n",
       "      <td>1200</td>\n",
       "      <td>5.00</td>\n",
       "    </tr>\n",
       "  </tbody>\n",
       "</table>\n",
       "</div>"
      ],
      "text/plain": [
       "                           Common Tasks Types  \\\n",
       "0                                 Send Email    \n",
       "1           Create Power point on known topic   \n",
       "2  Create Power point on new unfamiliar topic   \n",
       "3                            Schedule Meeting   \n",
       "4                      Work on small project    \n",
       "\n",
       "   Average Task duration in minutes  Tasks weights  \n",
       "0                                10           0.25  \n",
       "1                               120           2.00  \n",
       "2                               240           3.00  \n",
       "3                                10           0.25  \n",
       "4                              1200           5.00  "
      ]
     },
     "execution_count": 44,
     "metadata": {},
     "output_type": "execute_result"
    }
   ],
   "source": [
    "# Create a dataframe for Bot to reference and assign task duration / weight to each action item\n",
    "capacity = pd.read_csv('/Users/zainmaster/Desktop/Homeworks/Project_3_LLMs/Meeting-Bot/Resources/CommonTasks.csv')\n",
    "capacity.head()"
   ]
  },
  {
   "cell_type": "code",
   "execution_count": 45,
   "id": "8fe827e2",
   "metadata": {},
   "outputs": [
    {
     "data": {
      "text/plain": [
       "[['Send Email ', 10],\n",
       " ['Create Power point on known topic', 120],\n",
       " ['Create Power point on new unfamiliar topic', 240],\n",
       " ['Schedule Meeting', 10],\n",
       " ['Work on small project ', 1200],\n",
       " ['Work on medium project', 1600],\n",
       " ['Work on large project', 2400],\n",
       " ['Define process from scratch ', 1600],\n",
       " ['Refine a existing process', 1200],\n",
       " ['Review candidates for new role', 1600],\n",
       " ['Schedule interviews with new candidates', 30],\n",
       " ['Manage Budgets', 2400],\n",
       " ['Prioritizing work', 60],\n",
       " ['Training others on job', 90],\n",
       " ['Creating Marketing Campaign development', 120],\n",
       " ['Setting up and deploying marketing campaigns', 60],\n",
       " ['Planning Event', 120],\n",
       " ['Following up on tasks such as emails and progress with team', 120],\n",
       " ['Creating Reports', 180],\n",
       " ['Writing techinical documents', 60],\n",
       " ['Writing creative documents such as marketing or product requirements', 180],\n",
       " ['Problem solving or learning concepts to identify solutions', 180],\n",
       " ['Setup API to store oputput', 60],\n",
       " ['Provide Demo ', 60],\n",
       " ['API performance testing', 2400]]"
      ]
     },
     "execution_count": 45,
     "metadata": {},
     "output_type": "execute_result"
    }
   ],
   "source": [
    "# Converting the common tasks to list so that the bot can read it\n",
    "capacity1 = capacity[['Common Tasks Types', 'Average Task duration in minutes']]\n",
    "list_capacity = capacity1.values.tolist()\n",
    "list_capacity"
   ]
  },
  {
   "cell_type": "code",
   "execution_count": 48,
   "id": "016673a3",
   "metadata": {},
   "outputs": [
    {
     "name": "stdout",
     "output_type": "stream",
     "text": [
      "Propose and come up with ways on how to avoid repetitive release issues: (Work on large project) 2400 mins\n",
      "Come up with new ideas to improve internal confidence and external acceptance of the release: (Work on large project) 2400 mins\n",
      "Identify one individual from the solution center organization to intake information and share it within the organization: (Review candidates for new role) 1600 mins\n",
      "Establish a regular and systematic way of booking resources well in advance for testing: (Define process from scratch) 1600 mins\n",
      "Formalize the process of reaching out and communicating the need for resources: (Refine a existing process) 1200 mins\n",
      "Generate and store output for integrations prior to every release to compare: (Setup API to store output) 60 mins\n",
      "Consider adding API performance testing as part of the scope of the test: (API performance testing) 2400 mins\n"
     ]
    }
   ],
   "source": [
    "# Bot to assign a value (hours / weights) to the action items identified from the meeting transcription\n",
    "prompt3 = \"\"\"You are a smart and intelligent project manager that understand how much time it could take on average to complete a action item. \n",
    "Based on all of the action items / calls from the uploaded meeting transcript, you will reference a table of common tasks and assign to each task a approximate time value in minutes.\n",
    "If a task is hard for you to assign a time to complete, list the task followed by 'Unable to estimate'\n",
    "For every task to do, list the task followed by the duration on the same continuous line.\n",
    "Your output should be a list of every task from the list, and their average time to complete.\n",
    "Ensure each task entry and their duration to complete are one continuous line.\n",
    "An Example Output List:\n",
    "\n",
    "Task 1: (# Mins)\n",
    "Task 2: (# Mins)\n",
    "Task 3: (# Mins)\n",
    "Task X: (Unable to estimate).\n",
    "\"\"\"\n",
    "\n",
    "client = OpenAI()\n",
    "# Instantiate chain\n",
    "chain3 = client.chat.completions.create(\n",
    "    model='gpt-4-turbo',\n",
    "    messages=[{'role': 'system', 'content': prompt3},\n",
    "              {'role': 'user', 'content': f\"Tasks: {str(calls)}\\n Duration: {str(list_capacity)}\\n\"}]\n",
    ")\n",
    "\n",
    "calls_list = chain3.choices[0].message.content\n",
    "calls_list = calls_list.strip('\\n \\n')\n",
    "print(calls_list)"
   ]
  },
  {
   "cell_type": "code",
   "execution_count": 50,
   "id": "40786b72",
   "metadata": {},
   "outputs": [
    {
     "name": "stdout",
     "output_type": "stream",
     "text": [
      "Summary:\n",
      "\n",
      "**1. Meeting Summary:**\n",
      "\n",
      "The meeting convened to address the challenges and strategize improvements in the release process for customer-specific software implementations. Zain Master initiated the discussion by highlighting the recurring issues of compatibility between product core functionality and customer-specific implementations, which have led to multiple release failures and customer dissatisfaction. The goal was to enhance internal confidence and external acceptance of releases.\n",
      "\n",
      "The conversation focused on the need for enhanced testing that aligns with specific customer environments, proposing a cross-collaborative approach between the solution center and core product teams. Zain shared insights from his research and discussions with Peter Lafferman, emphasizing the gaps in current testing practices.\n",
      "\n",
      "Lukas Kawulok raised concerns about the previous release strategies, particularly the decision to roll out releases in waves, which although helped in managing risks, also presented challenges in customer communication and operational execution. Stephen Pack and Terry Stone discussed the logistical and communication challenges associated with wave-based releases, suggesting improvements in managing these processes.\n",
      "\n",
      "The discussion also covered the need for better resource management and planning, as highlighted by Petr Klen and Radim Moravec. They discussed the importance of booking QA resources well in advance and formalizing the process through a ticketing system to ensure availability and proper allocation during the testing phase.\n",
      "\n",
      "The meeting concluded with an agreement to document and formalize the resource booking process and to improve communication strategies for managing releases, with Zain Master taking responsibility for coordinating these efforts.\n",
      "\n",
      "**2. Key Learnings:**\n",
      "\n",
      "- Enhanced testing specific to customer environments is crucial for improving release confidence and acceptance.\n",
      "- Cross-collaboration between the solution center and core product teams is essential for addressing compatibility issues.\n",
      "- Implementing wave-based release strategies can help manage risk but requires careful communication and logistical planning.\n",
      "- Early and systematic booking of QA resources is necessary to ensure availability for release testing.\n",
      "- Formalizing the resource booking process through a ticketing system will help streamline operations and prevent resource conflicts.\n",
      "- Continuous improvement in communication strategies is needed to manage customer expectations and internal coordination effectively during releases.\n",
      "\n",
      "Action Items:\n",
      "\n",
      "Propose and come up with ways on how to avoid repetitive release issues: (Work on large project) 2400 mins\n",
      "\n",
      "Come up with new ideas to improve internal confidence and external acceptance of the release: (Work on large project) 2400 mins\n",
      "\n",
      "Identify one individual from the solution center organization to intake information and share it within the organization: (Review candidates for new role) 1600 mins\n",
      "\n",
      "Establish a regular and systematic way of booking resources well in advance for testing: (Define process from scratch) 1600 mins\n",
      "\n",
      "Formalize the process of reaching out and communicating the need for resources: (Refine a existing process) 1200 mins\n",
      "\n",
      "Generate and store output for integrations prior to every release to compare: (Setup API to store output) 60 mins\n",
      "\n",
      "Consider adding API performance testing as part of the scope of the test: (API performance testing) 2400 mins\n"
     ]
    }
   ],
   "source": [
    "# Adding it all together, meeting summary and action items from the bots above\n",
    "meeting_results = {'summary': final_summary, 'action items': calls_list}\n",
    "\n",
    "meeting_results['summary'] = 'Summary:\\n\\n' + meeting_results['summary'] + '\\n'\n",
    "meeting_results['action items'] = ('Action Items:\\n' + meeting_results['action items']).replace('\\n', '\\n\\n')\n",
    "\n",
    "print(meeting_results['summary'])\n",
    "print(meeting_results['action items'])"
   ]
  }
 ],
 "metadata": {
  "kernelspec": {
   "display_name": "LLM",
   "language": "python",
   "name": "python3"
  },
  "language_info": {
   "codemirror_mode": {
    "name": "ipython",
    "version": 3
   },
   "file_extension": ".py",
   "mimetype": "text/x-python",
   "name": "python",
   "nbconvert_exporter": "python",
   "pygments_lexer": "ipython3",
   "version": "3.12.9"
  }
 },
 "nbformat": 4,
 "nbformat_minor": 5
}
